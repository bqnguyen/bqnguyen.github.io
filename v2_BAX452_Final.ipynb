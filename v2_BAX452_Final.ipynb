{
  "nbformat": 4,
  "nbformat_minor": 0,
  "metadata": {
    "colab": {
      "name": "v2 BAX452-Final.ipynb",
      "version": "0.3.2",
      "provenance": [],
      "collapsed_sections": [],
      "include_colab_link": true
    },
    "kernelspec": {
      "name": "python3",
      "display_name": "Python 3"
    },
    "accelerator": "TPU"
  },
  "cells": [
    {
      "cell_type": "markdown",
      "metadata": {
        "id": "view-in-github",
        "colab_type": "text"
      },
      "source": [
        "<a href=\"https://colab.research.google.com/github/bqnguyen/bqnguyen.github.io/blob/master/v2_BAX452_Final.ipynb\" target=\"_parent\"><img src=\"https://colab.research.google.com/assets/colab-badge.svg\" alt=\"Open In Colab\"/></a>"
      ]
    },
    {
      "metadata": {
        "id": "xSBoMgN4lRAr",
        "colab_type": "text"
      },
      "cell_type": "markdown",
      "source": [
        ""
      ]
    },
    {
      "metadata": {
        "id": "bG6eVSevY5_z",
        "colab_type": "text"
      },
      "cell_type": "markdown",
      "source": [
        "# **Introduction**"
      ]
    },
    {
      "metadata": {
        "id": "Cy4p6fgjvuef",
        "colab_type": "text"
      },
      "cell_type": "markdown",
      "source": [
        "\n",
        "\n",
        "\n",
        "*   \n",
        "#  \"State and local governments collected a combined $488 billion in revenue from property taxes, or 17 percent of general revenue in **2015**\"**bold text**\n",
        "\n",
        "\n",
        "\n",
        "\n"
      ]
    },
    {
      "metadata": {
        "id": "061q9uTC1UmN",
        "colab_type": "text"
      },
      "cell_type": "markdown",
      "source": [
        "\n",
        "*   # \"Local governments collected $473 billion in property taxes or 30 percent of local government general revenue\""
      ]
    },
    {
      "metadata": {
        "id": "n02nvjXCvakz",
        "colab_type": "text"
      },
      "cell_type": "markdown",
      "source": [
        "<img src=\"http://siliconvalleyfreetutoring.org/img/PastedGraphic-1.png?format=250w\" >\n",
        "\n"
      ]
    },
    {
      "metadata": {
        "id": "MyWoCv695nod",
        "colab_type": "code",
        "outputId": "cfd58870-a20d-4391-9af1-0660bc229d5a",
        "colab": {
          "base_uri": "https://localhost:8080/",
          "height": 122
        }
      },
      "cell_type": "code",
      "source": [
        "from google.colab import drive\n",
        "drive.mount('/content/gdrive')"
      ],
      "execution_count": 0,
      "outputs": [
        {
          "output_type": "stream",
          "text": [
            "Go to this URL in a browser: https://accounts.google.com/o/oauth2/auth?client_id=947318989803-6bn6qk8qdgf4n4g3pfee6491hc0brc4i.apps.googleusercontent.com&redirect_uri=urn%3Aietf%3Awg%3Aoauth%3A2.0%3Aoob&scope=email%20https%3A%2F%2Fwww.googleapis.com%2Fauth%2Fdocs.test%20https%3A%2F%2Fwww.googleapis.com%2Fauth%2Fdrive%20https%3A%2F%2Fwww.googleapis.com%2Fauth%2Fdrive.photos.readonly%20https%3A%2F%2Fwww.googleapis.com%2Fauth%2Fpeopleapi.readonly&response_type=code\n",
            "\n",
            "Enter your authorization code:\n",
            "··········\n",
            "Mounted at /content/gdrive\n"
          ],
          "name": "stdout"
        }
      ]
    },
    {
      "metadata": {
        "id": "Y_IEtysrbyCG",
        "colab_type": "text"
      },
      "cell_type": "markdown",
      "source": [
        "### list in python"
      ]
    },
    {
      "metadata": {
        "id": "ws2U1dVIaCDf",
        "colab_type": "code",
        "outputId": "f66f9e1c-d7d9-404a-a578-366d167fe707",
        "colab": {
          "base_uri": "https://localhost:8080/",
          "height": 561
        }
      },
      "cell_type": "code",
      "source": [
        "import os;os.listdir(\"/content/gdrive/My Drive\")"
      ],
      "execution_count": 0,
      "outputs": [
        {
          "output_type": "execute_result",
          "data": {
            "text/plain": [
              "['Efron Slide.pptx - Pie chart 1.gsheet',\n",
              " 'SMUD',\n",
              " 'Nguyen,Bao802727442a.jpg',\n",
              " \"Julie's Class\",\n",
              " 'results-20171012-115042.csv.gsheet',\n",
              " 'Copy of SMUD Questions with Bao notes.gdoc',\n",
              " 'Bao Nguyen resume (20171012).docx',\n",
              " 'Bao Nguyen resume (20170918).docx',\n",
              " 'results-20171103-021253.csv.gsheet',\n",
              " 'Homework Assignment 1.docx',\n",
              " 'Untitled spreadsheet.gsheet',\n",
              " 'ITS_original.twb',\n",
              " 'Untitled document.gdoc',\n",
              " 'Colab Notebooks',\n",
              " 'ITS_fullData.sas',\n",
              " 'ITS_utilization.twb',\n",
              " 'train.csv',\n",
              " 'pragmaticai-test.gsheet',\n",
              " 'train.gsheet',\n",
              " 'test.csv',\n",
              " 'test.gsheet',\n",
              " 'BAX 452 - Machine Learning HW1 - Titanic Analysis.gdoc',\n",
              " 'BAX 452-Machine Learning HW2.gdoc',\n",
              " 'kaggle.json',\n",
              " 'Test_Data_1.xlsx',\n",
              " 'Test_Data_1.csv',\n",
              " 'BAX - Machine Learning - HW 3.gdoc',\n",
              " 'BAX 452 - Machine Learning HW4.gdoc',\n",
              " 'BAX 452- Machine Learning - HW 5.gdoc',\n",
              " 'BAX 452 - HW6.gdoc',\n",
              " 'ML Homework 7 - recommendattion engine.gdoc',\n",
              " 'properties_2016.csv']"
            ]
          },
          "metadata": {
            "tags": []
          },
          "execution_count": 3
        }
      ]
    },
    {
      "metadata": {
        "id": "23kiNSVkb09I",
        "colab_type": "text"
      },
      "cell_type": "markdown",
      "source": [
        "### list in bash"
      ]
    },
    {
      "metadata": {
        "id": "5GIbH4AgbjhL",
        "colab_type": "code",
        "outputId": "b209ab96-1191-4317-db41-e7c6f77796d3",
        "colab": {
          "base_uri": "https://localhost:8080/",
          "height": 578
        }
      },
      "cell_type": "code",
      "source": [
        "!ls -l /content/gdrive/My\\ Drive"
      ],
      "execution_count": 0,
      "outputs": [
        {
          "output_type": "stream",
          "text": [
            "total 643963\n",
            "-rw------- 1 root root     23313 Oct 20  2017 'Bao Nguyen resume (20170918).docx'\n",
            "-rw------- 1 root root     22531 Oct 20  2017 'Bao Nguyen resume (20171012).docx'\n",
            "-rw------- 1 root root         1 Feb 15 05:01 'BAX 452 - HW6.gdoc'\n",
            "-rw------- 1 root root         1 Jan 18 07:03 'BAX 452 - Machine Learning HW1 - Titanic Analysis.gdoc'\n",
            "-rw------- 1 root root         1 Jan 18 07:37 'BAX 452-Machine Learning HW2.gdoc'\n",
            "-rw------- 1 root root         1 Jan 31 05:11 'BAX 452 - Machine Learning HW4.gdoc'\n",
            "-rw------- 1 root root         1 Feb  6 09:13 'BAX 452- Machine Learning - HW 5.gdoc'\n",
            "-rw------- 1 root root         1 Jan 25 05:46 'BAX - Machine Learning - HW 3.gdoc'\n",
            "drwx------ 2 root root      4096 Jan  4 21:57 'Colab Notebooks'\n",
            "-rw------- 1 root root         1 Oct 12  2017 'Copy of SMUD Questions with Bao notes.gdoc'\n",
            "-rw------- 1 root root         1 Sep 22  2017 'Efron Slide.pptx - Pie chart 1.gsheet'\n",
            "-rw------- 1 root root     60463 Sep 12 01:42 'Homework Assignment 1.docx'\n",
            "-rw------- 1 root root     12454 Jan  9 04:08  ITS_fullData.sas\n",
            "-rw------- 1 root root    475177 Oct 24 02:41  ITS_original.twb\n",
            "-rw------- 1 root root    751020 Jan  9 04:09  ITS_utilization.twb\n",
            "drwx------ 2 root root      4096 Oct 10  2017 \"Julie's Class\"\n",
            "-rw------- 1 root root        64 Jan 19 03:48  kaggle.json\n",
            "-rw------- 1 root root         1 Feb 21 11:02 'ML Homework 7 - recommendattion engine.gdoc'\n",
            "-rw------- 1 root root   9029734 Sep 30  2017  Nguyen,Bao802727442a.jpg\n",
            "-rw------- 1 root root         1 Jan 18 01:48  pragmaticai-test.gsheet\n",
            "-rw------- 1 root root 648820905 Feb 23 11:01  properties_2016.csv\n",
            "-rw------- 1 root root         1 Oct 12  2017  results-20171012-115042.csv.gsheet\n",
            "-rw------- 1 root root         1 Nov  3  2017  results-20171103-021253.csv.gsheet\n",
            "drwx------ 2 root root      4096 Sep 26  2017  SMUD\n",
            "-rw------- 1 root root     28629 Jan 18 04:50  test.csv\n",
            "-rw------- 1 root root     40802 Jan 22 00:31  Test_Data_1.csv\n",
            "-rw------- 1 root root     67179 Jan 22 00:05  Test_Data_1.xlsx\n",
            "-rw------- 1 root root         1 Jan 18 04:50  test.gsheet\n",
            "-rw------- 1 root root     61194 Jan 18 01:45  train.csv\n",
            "-rw------- 1 root root         1 Jan 18 01:49  train.gsheet\n",
            "-rw------- 1 root root         1 Nov  2 04:01 'Untitled document.gdoc'\n",
            "-rw------- 1 root root         1 Sep 12 01:50 'Untitled spreadsheet.gsheet'\n"
          ],
          "name": "stdout"
        }
      ]
    },
    {
      "metadata": {
        "id": "4XeQ5w7xHwfu",
        "colab_type": "text"
      },
      "cell_type": "markdown",
      "source": [
        "### Import Libraries"
      ]
    },
    {
      "metadata": {
        "id": "HEAo5YXVH1Q_",
        "colab_type": "code",
        "colab": {}
      },
      "cell_type": "code",
      "source": [
        "import pandas as pd\n",
        "import matplotlib.pyplot as plt\n",
        "import seaborn as sns\n",
        "%matplotlib inline"
      ],
      "execution_count": 0,
      "outputs": []
    },
    {
      "metadata": {
        "id": "JMLQm0NYgRPl",
        "colab_type": "text"
      },
      "cell_type": "markdown",
      "source": [
        "### Load into Pandas"
      ]
    },
    {
      "metadata": {
        "id": "U1OTBFXZxdRd",
        "colab_type": "code",
        "outputId": "ce5bd887-878c-479c-9525-2e032c0dd42a",
        "colab": {
          "base_uri": "https://localhost:8080/",
          "height": 34
        }
      },
      "cell_type": "code",
      "source": [
        "%cd /content/gdrive/My\\ Drive"
      ],
      "execution_count": 0,
      "outputs": [
        {
          "output_type": "stream",
          "text": [
            "/content/gdrive/My Drive\n"
          ],
          "name": "stdout"
        }
      ]
    },
    {
      "metadata": {
        "id": "AboU3GEPG7Gi",
        "colab_type": "code",
        "outputId": "b1a3de99-2770-47c9-cf3e-dcd9ba6135a6",
        "colab": {
          "base_uri": "https://localhost:8080/",
          "height": 225
        }
      },
      "cell_type": "code",
      "source": [
        "import pandas as pd\n",
        "df = pd.read_csv(\"properties_2016.csv\")\n",
        "df.head(3)"
      ],
      "execution_count": 0,
      "outputs": [
        {
          "output_type": "stream",
          "text": [
            "/usr/local/lib/python3.6/dist-packages/IPython/core/interactiveshell.py:2718: DtypeWarning: Columns (22,32,34,49,55) have mixed types. Specify dtype option on import or set low_memory=False.\n",
            "  interactivity=interactivity, compiler=compiler, result=result)\n"
          ],
          "name": "stderr"
        },
        {
          "output_type": "execute_result",
          "data": {
            "text/html": [
              "<div>\n",
              "<style scoped>\n",
              "    .dataframe tbody tr th:only-of-type {\n",
              "        vertical-align: middle;\n",
              "    }\n",
              "\n",
              "    .dataframe tbody tr th {\n",
              "        vertical-align: top;\n",
              "    }\n",
              "\n",
              "    .dataframe thead th {\n",
              "        text-align: right;\n",
              "    }\n",
              "</style>\n",
              "<table border=\"1\" class=\"dataframe\">\n",
              "  <thead>\n",
              "    <tr style=\"text-align: right;\">\n",
              "      <th></th>\n",
              "      <th>parcelid</th>\n",
              "      <th>airconditioningtypeid</th>\n",
              "      <th>architecturalstyletypeid</th>\n",
              "      <th>basementsqft</th>\n",
              "      <th>bathroomcnt</th>\n",
              "      <th>bedroomcnt</th>\n",
              "      <th>buildingclasstypeid</th>\n",
              "      <th>buildingqualitytypeid</th>\n",
              "      <th>calculatedbathnbr</th>\n",
              "      <th>decktypeid</th>\n",
              "      <th>...</th>\n",
              "      <th>numberofstories</th>\n",
              "      <th>fireplaceflag</th>\n",
              "      <th>structuretaxvaluedollarcnt</th>\n",
              "      <th>taxvaluedollarcnt</th>\n",
              "      <th>assessmentyear</th>\n",
              "      <th>landtaxvaluedollarcnt</th>\n",
              "      <th>taxamount</th>\n",
              "      <th>taxdelinquencyflag</th>\n",
              "      <th>taxdelinquencyyear</th>\n",
              "      <th>censustractandblock</th>\n",
              "    </tr>\n",
              "  </thead>\n",
              "  <tbody>\n",
              "    <tr>\n",
              "      <th>0</th>\n",
              "      <td>10754147</td>\n",
              "      <td>NaN</td>\n",
              "      <td>NaN</td>\n",
              "      <td>NaN</td>\n",
              "      <td>0.0</td>\n",
              "      <td>0.0</td>\n",
              "      <td>NaN</td>\n",
              "      <td>NaN</td>\n",
              "      <td>NaN</td>\n",
              "      <td>NaN</td>\n",
              "      <td>...</td>\n",
              "      <td>NaN</td>\n",
              "      <td>NaN</td>\n",
              "      <td>NaN</td>\n",
              "      <td>9.0</td>\n",
              "      <td>2015.0</td>\n",
              "      <td>9.0</td>\n",
              "      <td>NaN</td>\n",
              "      <td>NaN</td>\n",
              "      <td>NaN</td>\n",
              "      <td>NaN</td>\n",
              "    </tr>\n",
              "    <tr>\n",
              "      <th>1</th>\n",
              "      <td>10759547</td>\n",
              "      <td>NaN</td>\n",
              "      <td>NaN</td>\n",
              "      <td>NaN</td>\n",
              "      <td>0.0</td>\n",
              "      <td>0.0</td>\n",
              "      <td>NaN</td>\n",
              "      <td>NaN</td>\n",
              "      <td>NaN</td>\n",
              "      <td>NaN</td>\n",
              "      <td>...</td>\n",
              "      <td>NaN</td>\n",
              "      <td>NaN</td>\n",
              "      <td>NaN</td>\n",
              "      <td>27516.0</td>\n",
              "      <td>2015.0</td>\n",
              "      <td>27516.0</td>\n",
              "      <td>NaN</td>\n",
              "      <td>NaN</td>\n",
              "      <td>NaN</td>\n",
              "      <td>NaN</td>\n",
              "    </tr>\n",
              "    <tr>\n",
              "      <th>2</th>\n",
              "      <td>10843547</td>\n",
              "      <td>NaN</td>\n",
              "      <td>NaN</td>\n",
              "      <td>NaN</td>\n",
              "      <td>0.0</td>\n",
              "      <td>0.0</td>\n",
              "      <td>NaN</td>\n",
              "      <td>NaN</td>\n",
              "      <td>NaN</td>\n",
              "      <td>NaN</td>\n",
              "      <td>...</td>\n",
              "      <td>NaN</td>\n",
              "      <td>NaN</td>\n",
              "      <td>650756.0</td>\n",
              "      <td>1413387.0</td>\n",
              "      <td>2015.0</td>\n",
              "      <td>762631.0</td>\n",
              "      <td>20800.37</td>\n",
              "      <td>NaN</td>\n",
              "      <td>NaN</td>\n",
              "      <td>NaN</td>\n",
              "    </tr>\n",
              "  </tbody>\n",
              "</table>\n",
              "<p>3 rows × 58 columns</p>\n",
              "</div>"
            ],
            "text/plain": [
              "   parcelid  airconditioningtypeid  architecturalstyletypeid  basementsqft  \\\n",
              "0  10754147                    NaN                       NaN           NaN   \n",
              "1  10759547                    NaN                       NaN           NaN   \n",
              "2  10843547                    NaN                       NaN           NaN   \n",
              "\n",
              "   bathroomcnt  bedroomcnt  buildingclasstypeid  buildingqualitytypeid  \\\n",
              "0          0.0         0.0                  NaN                    NaN   \n",
              "1          0.0         0.0                  NaN                    NaN   \n",
              "2          0.0         0.0                  NaN                    NaN   \n",
              "\n",
              "   calculatedbathnbr  decktypeid         ...           numberofstories  \\\n",
              "0                NaN         NaN         ...                       NaN   \n",
              "1                NaN         NaN         ...                       NaN   \n",
              "2                NaN         NaN         ...                       NaN   \n",
              "\n",
              "   fireplaceflag  structuretaxvaluedollarcnt  taxvaluedollarcnt  \\\n",
              "0            NaN                         NaN                9.0   \n",
              "1            NaN                         NaN            27516.0   \n",
              "2            NaN                    650756.0          1413387.0   \n",
              "\n",
              "   assessmentyear  landtaxvaluedollarcnt  taxamount  taxdelinquencyflag  \\\n",
              "0          2015.0                    9.0        NaN                 NaN   \n",
              "1          2015.0                27516.0        NaN                 NaN   \n",
              "2          2015.0               762631.0   20800.37                 NaN   \n",
              "\n",
              "   taxdelinquencyyear  censustractandblock  \n",
              "0                 NaN                  NaN  \n",
              "1                 NaN                  NaN  \n",
              "2                 NaN                  NaN  \n",
              "\n",
              "[3 rows x 58 columns]"
            ]
          },
          "metadata": {
            "tags": []
          },
          "execution_count": 8
        }
      ]
    },
    {
      "metadata": {
        "id": "tvxx1ebIRmui",
        "colab_type": "code",
        "colab": {}
      },
      "cell_type": "code",
      "source": [
        "import pandas as pd\n",
        "from sklearn import datasets, linear_model\n",
        "from sklearn.model_selection import train_test_split\n",
        "from matplotlib import pyplot as plt\n",
        "%matplotlib inline\n",
        "\n"
      ],
      "execution_count": 0,
      "outputs": []
    },
    {
      "metadata": {
        "id": "FvsisvnLyi9R",
        "colab_type": "code",
        "colab": {}
      },
      "cell_type": "code",
      "source": [
        ""
      ],
      "execution_count": 0,
      "outputs": []
    },
    {
      "metadata": {
        "id": "yjdDhEsTTY6d",
        "colab_type": "code",
        "colab": {}
      },
      "cell_type": "code",
      "source": [
        ""
      ],
      "execution_count": 0,
      "outputs": []
    },
    {
      "metadata": {
        "id": "eGtlHZVeHWfZ",
        "colab_type": "code",
        "colab": {}
      },
      "cell_type": "code",
      "source": [
        ""
      ],
      "execution_count": 0,
      "outputs": []
    },
    {
      "metadata": {
        "id": "q8IV4I9_cllv",
        "colab_type": "code",
        "colab": {}
      },
      "cell_type": "code",
      "source": [
        ""
      ],
      "execution_count": 0,
      "outputs": []
    },
    {
      "metadata": {
        "id": "AYPSmaKCh8Ii",
        "colab_type": "code",
        "outputId": "2dcbd7ab-4a2c-4870-e96a-00cc805327a9",
        "colab": {
          "base_uri": "https://localhost:8080/",
          "height": 671
        }
      },
      "cell_type": "code",
      "source": [
        "from string import ascii_letters\n",
        "import numpy as np\n",
        "import pandas as pd\n",
        "import seaborn as sns\n",
        "import matplotlib.pyplot as plt\n",
        "\n",
        "sns.set(style=\"white\")\n",
        "\n",
        "\n",
        "# Compute the correlation matrix\n",
        "corr = df.corr()\n",
        "\n",
        "# Generate a mask for the upper triangle\n",
        "mask = np.zeros_like(corr, dtype=np.bool)\n",
        "mask[np.triu_indices_from(mask)] = True\n",
        "\n",
        "# Set up the matplotlib figure\n",
        "f, ax = plt.subplots(figsize=(11, 9))\n",
        "\n",
        "# Generate a custom diverging colormap\n",
        "cmap = sns.diverging_palette(220, 10, as_cmap=True)\n",
        "\n",
        "# Draw the heatmap with the mask and correct aspect ratio\n",
        "sns.heatmap(corr, mask=mask, cmap=cmap, vmax=.3, center=0,\n",
        "            square=True, linewidths=.5, cbar_kws={\"shrink\": .5})"
      ],
      "execution_count": 0,
      "outputs": [
        {
          "output_type": "execute_result",
          "data": {
            "text/plain": [
              "<matplotlib.axes._subplots.AxesSubplot at 0x7f0370b22f98>"
            ]
          },
          "metadata": {
            "tags": []
          },
          "execution_count": 11
        },
        {
          "output_type": "display_data",
          "data": {
            "image/png": "[encoded data removed]",
            "text/plain": [
              "<Figure size 792x648 with 2 Axes>"
            ]
          },
          "metadata": {
            "tags": []
          }
        }
      ]
    },
    {
      "metadata": {
        "id": "FvaOIuEHdGTK",
        "colab_type": "code",
        "outputId": "fd1c328c-4852-44b8-f7e5-66c14ab29b96",
        "colab": {
          "base_uri": "https://localhost:8080/",
          "height": 658
        }
      },
      "cell_type": "code",
      "source": [
        "sns.set(style=\"white\")\n",
        "\n",
        "#get key features\n",
        "\n",
        "df2=df[['taxamount','landtaxvaluedollarcnt','structuretaxvaluedollarcnt','bedroomcnt','finishedsquarefeet12','fullbathcnt']]\n",
        "# Compute the correlation matrix\n",
        "corr = df2.corr()\n",
        "\n",
        "# Generate a mask for the upper triangle\n",
        "mask = np.zeros_like(corr, dtype=np.bool)\n",
        "mask[np.triu_indices_from(mask)] = True\n",
        "\n",
        "# Set up the matplotlib figure\n",
        "f, ax = plt.subplots(figsize=(11, 9))\n",
        "\n",
        "# Generate a custom diverging colormap\n",
        "cmap = sns.diverging_palette(220, 10, as_cmap=True)\n",
        "\n",
        "# Draw the heatmap with the mask and correct aspect ratio\n",
        "sns.heatmap(corr, mask=mask, cmap=cmap, vmax=.3, center=0,\n",
        "            square=True, linewidths=.5, cbar_kws={\"shrink\": .5})"
      ],
      "execution_count": 0,
      "outputs": [
        {
          "output_type": "execute_result",
          "data": {
            "text/plain": [
              "<matplotlib.axes._subplots.AxesSubplot at 0x7f036d671d68>"
            ]
          },
          "metadata": {
            "tags": []
          },
          "execution_count": 12
        },
        {
          "output_type": "display_data",
          "data": {
            "image/png": "[encoded data removed]",
            "text/plain": [
              "<Figure size 792x648 with 2 Axes>"
            ]
          },
          "metadata": {
            "tags": []
          }
        }
      ]
    },
    {
      "metadata": {
        "id": "M03epLZp3Mkw",
        "colab_type": "code",
        "colab": {}
      },
      "cell_type": "code",
      "source": [
        ""
      ],
      "execution_count": 0,
      "outputs": []
    },
    {
      "metadata": {
        "id": "psmWpZBVdFLH",
        "colab_type": "code",
        "outputId": "fc5976f4-3746-4780-ba58-2ccae6085823",
        "colab": {
          "base_uri": "https://localhost:8080/",
          "height": 51
        }
      },
      "cell_type": "code",
      "source": [
        "df3=df2.dropna()\n",
        "np.corrcoef(df3['taxamount'], df3['structuretaxvaluedollarcnt'])"
      ],
      "execution_count": 0,
      "outputs": [
        {
          "output_type": "execute_result",
          "data": {
            "text/plain": [
              "array([[1.        , 0.81251814],\n",
              "       [0.81251814, 1.        ]])"
            ]
          },
          "metadata": {
            "tags": []
          },
          "execution_count": 14
        }
      ]
    },
    {
      "metadata": {
        "id": "Pjvzo58vbOrX",
        "colab_type": "code",
        "outputId": "b3edcd61-aefa-4f93-dc56-bed6e7256018",
        "colab": {
          "base_uri": "https://localhost:8080/",
          "height": 51
        }
      },
      "cell_type": "code",
      "source": [
        "\n",
        "np.corrcoef(df3['taxamount'], df3['landtaxvaluedollarcnt'])"
      ],
      "execution_count": 0,
      "outputs": [
        {
          "output_type": "execute_result",
          "data": {
            "text/plain": [
              "array([[1.        , 0.91802392],\n",
              "       [0.91802392, 1.        ]])"
            ]
          },
          "metadata": {
            "tags": []
          },
          "execution_count": 16
        }
      ]
    },
    {
      "metadata": {
        "id": "rpoTp4yE60Sb",
        "colab_type": "code",
        "outputId": "639866a1-19cc-490c-c0f0-8df40c1ed0de",
        "colab": {
          "base_uri": "https://localhost:8080/",
          "height": 51
        }
      },
      "cell_type": "code",
      "source": [
        "\n",
        "np.corrcoef(df3['taxamount'], df3['bedroomcnt'])"
      ],
      "execution_count": 0,
      "outputs": [
        {
          "output_type": "execute_result",
          "data": {
            "text/plain": [
              "array([[1.        , 0.25860247],\n",
              "       [0.25860247, 1.        ]])"
            ]
          },
          "metadata": {
            "tags": []
          },
          "execution_count": 17
        }
      ]
    },
    {
      "metadata": {
        "id": "azAYSPEx3r1f",
        "colab_type": "code",
        "colab": {}
      },
      "cell_type": "code",
      "source": [
        ""
      ],
      "execution_count": 0,
      "outputs": []
    },
    {
      "metadata": {
        "id": "D5XCQTOz67s5",
        "colab_type": "code",
        "outputId": "2c4a2308-bfa3-4408-c30d-c8079f67d0eb",
        "colab": {
          "base_uri": "https://localhost:8080/",
          "height": 51
        }
      },
      "cell_type": "code",
      "source": [
        "\n",
        "np.corrcoef(df3['taxamount'], df3['finishedsquarefeet12'])"
      ],
      "execution_count": 0,
      "outputs": [
        {
          "output_type": "execute_result",
          "data": {
            "text/plain": [
              "array([[1.        , 0.60204176],\n",
              "       [0.60204176, 1.        ]])"
            ]
          },
          "metadata": {
            "tags": []
          },
          "execution_count": 18
        }
      ]
    },
    {
      "metadata": {
        "id": "ZDZUczkh7BC0",
        "colab_type": "code",
        "outputId": "5a81ba7c-7563-4e22-ed35-918569ccfb01",
        "colab": {
          "base_uri": "https://localhost:8080/",
          "height": 51
        }
      },
      "cell_type": "code",
      "source": [
        "\n",
        "np.corrcoef(df3['taxamount'], df3['fullbathcnt'])"
      ],
      "execution_count": 0,
      "outputs": [
        {
          "output_type": "execute_result",
          "data": {
            "text/plain": [
              "array([[1.        , 0.48554413],\n",
              "       [0.48554413, 1.        ]])"
            ]
          },
          "metadata": {
            "tags": []
          },
          "execution_count": 19
        }
      ]
    },
    {
      "metadata": {
        "id": "eXCIJ361FaRt",
        "colab_type": "text"
      },
      "cell_type": "markdown",
      "source": [
        "# Model **building**"
      ]
    },
    {
      "metadata": {
        "id": "1DohDgjqFbz7",
        "colab_type": "text"
      },
      "cell_type": "markdown",
      "source": [
        ""
      ]
    },
    {
      "metadata": {
        "id": "K5Hv6qppRlkD",
        "colab_type": "code",
        "outputId": "b5befa3f-4a6a-4d99-e99a-3aa3ffae12ef",
        "colab": {
          "base_uri": "https://localhost:8080/",
          "height": 51
        }
      },
      "cell_type": "code",
      "source": [
        "\n",
        "df3_1=df3[['bedroomcnt','finishedsquarefeet12','fullbathcnt']]\n",
        "y=df3['taxamount']\n",
        "X_train,X_test,y_train,y_test=train_test_split(df3_1,y,test_size=.2)\n",
        "print (X_train.shape,y_train.shape)\n",
        "print (X_test.shape,y_test.shape)"
      ],
      "execution_count": 0,
      "outputs": [
        {
          "output_type": "stream",
          "text": [
            "(2136176, 3) (2136176,)\n",
            "(534045, 3) (534045,)\n"
          ],
          "name": "stdout"
        }
      ]
    },
    {
      "metadata": {
        "id": "SH3FoRIYZQW_",
        "colab_type": "code",
        "outputId": "1330afc7-8489-4f0f-9591-34db583a2e21",
        "colab": {
          "base_uri": "https://localhost:8080/",
          "height": 204
        }
      },
      "cell_type": "code",
      "source": [
        "X_train.head()"
      ],
      "execution_count": 0,
      "outputs": [
        {
          "output_type": "execute_result",
          "data": {
            "text/html": [
              "<div>\n",
              "<style scoped>\n",
              "    .dataframe tbody tr th:only-of-type {\n",
              "        vertical-align: middle;\n",
              "    }\n",
              "\n",
              "    .dataframe tbody tr th {\n",
              "        vertical-align: top;\n",
              "    }\n",
              "\n",
              "    .dataframe thead th {\n",
              "        text-align: right;\n",
              "    }\n",
              "</style>\n",
              "<table border=\"1\" class=\"dataframe\">\n",
              "  <thead>\n",
              "    <tr style=\"text-align: right;\">\n",
              "      <th></th>\n",
              "      <th>bedroomcnt</th>\n",
              "      <th>finishedsquarefeet12</th>\n",
              "      <th>fullbathcnt</th>\n",
              "    </tr>\n",
              "  </thead>\n",
              "  <tbody>\n",
              "    <tr>\n",
              "      <th>1319374</th>\n",
              "      <td>3.0</td>\n",
              "      <td>1425.0</td>\n",
              "      <td>2.0</td>\n",
              "    </tr>\n",
              "    <tr>\n",
              "      <th>2291485</th>\n",
              "      <td>4.0</td>\n",
              "      <td>1814.0</td>\n",
              "      <td>2.0</td>\n",
              "    </tr>\n",
              "    <tr>\n",
              "      <th>2216953</th>\n",
              "      <td>2.0</td>\n",
              "      <td>886.0</td>\n",
              "      <td>2.0</td>\n",
              "    </tr>\n",
              "    <tr>\n",
              "      <th>1309425</th>\n",
              "      <td>2.0</td>\n",
              "      <td>1396.0</td>\n",
              "      <td>2.0</td>\n",
              "    </tr>\n",
              "    <tr>\n",
              "      <th>363062</th>\n",
              "      <td>2.0</td>\n",
              "      <td>1904.0</td>\n",
              "      <td>1.0</td>\n",
              "    </tr>\n",
              "  </tbody>\n",
              "</table>\n",
              "</div>"
            ],
            "text/plain": [
              "         bedroomcnt  finishedsquarefeet12  fullbathcnt\n",
              "1319374         3.0                1425.0          2.0\n",
              "2291485         4.0                1814.0          2.0\n",
              "2216953         2.0                 886.0          2.0\n",
              "1309425         2.0                1396.0          2.0\n",
              "363062          2.0                1904.0          1.0"
            ]
          },
          "metadata": {
            "tags": []
          },
          "execution_count": 21
        }
      ]
    },
    {
      "metadata": {
        "id": "JyykujmaZU67",
        "colab_type": "code",
        "outputId": "6b51f5aa-9e42-4ab6-ab53-65d6f8d05b0d",
        "colab": {
          "base_uri": "https://localhost:8080/",
          "height": 119
        }
      },
      "cell_type": "code",
      "source": [
        "y_train.head()"
      ],
      "execution_count": 0,
      "outputs": [
        {
          "output_type": "execute_result",
          "data": {
            "text/plain": [
              "1319374    4468.60\n",
              "2291485    6972.29\n",
              "2216953    3940.80\n",
              "1309425    3312.18\n",
              "363062     4510.46\n",
              "Name: taxamount, dtype: float64"
            ]
          },
          "metadata": {
            "tags": []
          },
          "execution_count": 22
        }
      ]
    },
    {
      "metadata": {
        "id": "nOzqAouVZlp7",
        "colab_type": "code",
        "outputId": "62906942-71ea-4461-decd-4c2fec4d8dfd",
        "colab": {
          "base_uri": "https://localhost:8080/",
          "height": 204
        }
      },
      "cell_type": "code",
      "source": [
        "X_test.head()"
      ],
      "execution_count": 0,
      "outputs": [
        {
          "output_type": "execute_result",
          "data": {
            "text/html": [
              "<div>\n",
              "<style scoped>\n",
              "    .dataframe tbody tr th:only-of-type {\n",
              "        vertical-align: middle;\n",
              "    }\n",
              "\n",
              "    .dataframe tbody tr th {\n",
              "        vertical-align: top;\n",
              "    }\n",
              "\n",
              "    .dataframe thead th {\n",
              "        text-align: right;\n",
              "    }\n",
              "</style>\n",
              "<table border=\"1\" class=\"dataframe\">\n",
              "  <thead>\n",
              "    <tr style=\"text-align: right;\">\n",
              "      <th></th>\n",
              "      <th>bedroomcnt</th>\n",
              "      <th>finishedsquarefeet12</th>\n",
              "      <th>fullbathcnt</th>\n",
              "    </tr>\n",
              "  </thead>\n",
              "  <tbody>\n",
              "    <tr>\n",
              "      <th>2071169</th>\n",
              "      <td>2.0</td>\n",
              "      <td>1646.0</td>\n",
              "      <td>3.0</td>\n",
              "    </tr>\n",
              "    <tr>\n",
              "      <th>656885</th>\n",
              "      <td>4.0</td>\n",
              "      <td>1212.0</td>\n",
              "      <td>2.0</td>\n",
              "    </tr>\n",
              "    <tr>\n",
              "      <th>2896741</th>\n",
              "      <td>4.0</td>\n",
              "      <td>2546.0</td>\n",
              "      <td>3.0</td>\n",
              "    </tr>\n",
              "    <tr>\n",
              "      <th>2416647</th>\n",
              "      <td>3.0</td>\n",
              "      <td>972.0</td>\n",
              "      <td>1.0</td>\n",
              "    </tr>\n",
              "    <tr>\n",
              "      <th>467686</th>\n",
              "      <td>3.0</td>\n",
              "      <td>1048.0</td>\n",
              "      <td>1.0</td>\n",
              "    </tr>\n",
              "  </tbody>\n",
              "</table>\n",
              "</div>"
            ],
            "text/plain": [
              "         bedroomcnt  finishedsquarefeet12  fullbathcnt\n",
              "2071169         2.0                1646.0          3.0\n",
              "656885          4.0                1212.0          2.0\n",
              "2896741         4.0                2546.0          3.0\n",
              "2416647         3.0                 972.0          1.0\n",
              "467686          3.0                1048.0          1.0"
            ]
          },
          "metadata": {
            "tags": []
          },
          "execution_count": 23
        }
      ]
    },
    {
      "metadata": {
        "id": "DFUzywuRHgoc",
        "colab_type": "code",
        "colab": {}
      },
      "cell_type": "code",
      "source": [
        "# fit a model\n",
        "lm = linear_model.LinearRegression()\n",
        "model = lm.fit(X_train, y_train)\n",
        "predictions = lm.predict(X_test)"
      ],
      "execution_count": 0,
      "outputs": []
    },
    {
      "metadata": {
        "id": "1dlLuYSHHjrc",
        "colab_type": "code",
        "outputId": "63d88538-d125-4243-9430-6c90487af20a",
        "colab": {
          "base_uri": "https://localhost:8080/",
          "height": 51
        }
      },
      "cell_type": "code",
      "source": [
        "predictions[0:5]"
      ],
      "execution_count": 0,
      "outputs": [
        {
          "output_type": "execute_result",
          "data": {
            "text/plain": [
              "array([7027.21188102,  987.58050644, 8609.9888664 ,  657.59741121,\n",
              "       1055.50534227])"
            ]
          },
          "metadata": {
            "tags": []
          },
          "execution_count": 25
        }
      ]
    },
    {
      "metadata": {
        "id": "wTh915JFHrYO",
        "colab_type": "code",
        "outputId": "f62c84d7-3001-4670-84fe-cc29739ae0ac",
        "colab": {
          "base_uri": "https://localhost:8080/",
          "height": 378
        }
      },
      "cell_type": "code",
      "source": [
        "## The line / model\n",
        "plt.scatter(y_test, predictions)\n",
        "plt.xlabel(\"True Values\")\n",
        "plt.ylabel(\"Predictions\")"
      ],
      "execution_count": 0,
      "outputs": [
        {
          "output_type": "execute_result",
          "data": {
            "text/plain": [
              "Text(0, 0.5, 'Predictions')"
            ]
          },
          "metadata": {
            "tags": []
          },
          "execution_count": 26
        },
        {
          "output_type": "display_data",
          "data": {
            "image/png": "[encoded data removed]",
            "text/plain": [
              "<Figure size 576x396 with 1 Axes>"
            ]
          },
          "metadata": {
            "tags": []
          }
        }
      ]
    },
    {
      "metadata": {
        "id": "gkqPX_arVhRL",
        "colab_type": "code",
        "outputId": "bb2e2551-06fb-4364-f252-60ab85a03f87",
        "colab": {
          "base_uri": "https://localhost:8080/",
          "height": 34
        }
      },
      "cell_type": "code",
      "source": [
        "\n",
        "print  (model.score(X_test, y_test))"
      ],
      "execution_count": 0,
      "outputs": [
        {
          "output_type": "stream",
          "text": [
            "0.40240732710276517\n"
          ],
          "name": "stdout"
        }
      ]
    },
    {
      "metadata": {
        "id": "JEOPr7k5YMJz",
        "colab_type": "code",
        "outputId": "84d2e686-fc66-47da-80c9-e268068a4442",
        "colab": {
          "base_uri": "https://localhost:8080/",
          "height": 51
        }
      },
      "cell_type": "code",
      "source": [
        "df4=df3[['bedroomcnt','finishedsquarefeet12','fullbathcnt']].dropna()\n",
        "y=df3['taxamount']\n",
        "X_train,X_test,y_train,y_test=train_test_split(df4,y,test_size=.2)\n",
        "print (X_train.shape,y_train.shape)\n",
        "print (X_test.shape,y_test.shape)"
      ],
      "execution_count": 0,
      "outputs": [
        {
          "output_type": "stream",
          "text": [
            "(2136176, 3) (2136176,)\n",
            "(534045, 3) (534045,)\n"
          ],
          "name": "stdout"
        }
      ]
    },
    {
      "metadata": {
        "id": "Ift_8EuzYTJi",
        "colab_type": "code",
        "colab": {}
      },
      "cell_type": "code",
      "source": [
        "# fit a model\n",
        "lm = linear_model.LinearRegression()\n",
        "model = lm.fit(X_train, y_train)\n",
        "predictions = lm.predict(X_test)"
      ],
      "execution_count": 0,
      "outputs": []
    },
    {
      "metadata": {
        "id": "73mUB5qbZxL-",
        "colab_type": "code",
        "outputId": "d8644dee-bbfd-4e41-8bb9-f0d6bb310bb8",
        "colab": {
          "base_uri": "https://localhost:8080/",
          "height": 51
        }
      },
      "cell_type": "code",
      "source": [
        "predictions[0:5]"
      ],
      "execution_count": 0,
      "outputs": [
        {
          "output_type": "execute_result",
          "data": {
            "text/plain": [
              "array([12467.6812243 ,  1985.29977352,  4421.89941749,  2912.16184184,\n",
              "        3656.05955711])"
            ]
          },
          "metadata": {
            "tags": []
          },
          "execution_count": 30
        }
      ]
    },
    {
      "metadata": {
        "id": "-tfrvpwzZzwQ",
        "colab_type": "code",
        "outputId": "e22761fc-8300-48fa-f73a-56aa4da432de",
        "colab": {
          "base_uri": "https://localhost:8080/",
          "height": 378
        }
      },
      "cell_type": "code",
      "source": [
        "## The line / model\n",
        "plt.scatter(y_test, predictions)\n",
        "plt.xlabel(\"True Values\")\n",
        "plt.ylabel(\"Predictions\")"
      ],
      "execution_count": 0,
      "outputs": [
        {
          "output_type": "execute_result",
          "data": {
            "text/plain": [
              "Text(0, 0.5, 'Predictions')"
            ]
          },
          "metadata": {
            "tags": []
          },
          "execution_count": 31
        },
        {
          "output_type": "display_data",
          "data": {
            "image/png": "[encoded data removed]",
            "text/plain": [
              "<Figure size 576x396 with 1 Axes>"
            ]
          },
          "metadata": {
            "tags": []
          }
        }
      ]
    },
    {
      "metadata": {
        "id": "m3auSx3GZ_io",
        "colab_type": "code",
        "outputId": "a4b3461a-f3a6-4bbb-c7ae-a60742f2d162",
        "colab": {
          "base_uri": "https://localhost:8080/",
          "height": 34
        }
      },
      "cell_type": "code",
      "source": [
        "\n",
        "print  (model.score(X_test, y_test))"
      ],
      "execution_count": 0,
      "outputs": [
        {
          "output_type": "stream",
          "text": [
            "0.39662808791093485\n"
          ],
          "name": "stdout"
        }
      ]
    },
    {
      "metadata": {
        "id": "TJOHJHJfAOTh",
        "colab_type": "code",
        "colab": {}
      },
      "cell_type": "code",
      "source": [
        ""
      ],
      "execution_count": 0,
      "outputs": []
    },
    {
      "metadata": {
        "id": "u3UaOWMb9W6G",
        "colab_type": "text"
      },
      "cell_type": "markdown",
      "source": [
        "# Another model **versio**n"
      ]
    },
    {
      "metadata": {
        "id": "SOh5SLx79cdl",
        "colab_type": "text"
      },
      "cell_type": "markdown",
      "source": [
        ""
      ]
    },
    {
      "metadata": {
        "id": "6ABe8obT9laG",
        "colab_type": "code",
        "outputId": "3e2d6743-8974-4e9e-d7cc-bede79a7c479",
        "colab": {
          "base_uri": "https://localhost:8080/",
          "height": 51
        }
      },
      "cell_type": "code",
      "source": [
        "\n",
        "df3_1=df3[['bedroomcnt','finishedsquarefeet12','fullbathcnt','structuretaxvaluedollarcnt','landtaxvaluedollarcnt']]\n",
        "y=df3['taxamount']\n",
        "X_train,X_test,y_train,y_test=train_test_split(df3_1,y,test_size=.2)\n",
        "print (X_train.shape,y_train.shape)\n",
        "print (X_test.shape,y_test.shape)"
      ],
      "execution_count": 0,
      "outputs": [
        {
          "output_type": "stream",
          "text": [
            "(2136176, 5) (2136176,)\n",
            "(534045, 5) (534045,)\n"
          ],
          "name": "stdout"
        }
      ]
    },
    {
      "metadata": {
        "id": "Evay-x9I-OID",
        "colab_type": "code",
        "colab": {}
      },
      "cell_type": "code",
      "source": [
        "# fit a model\n",
        "lm = linear_model.LinearRegression()\n",
        "model = lm.fit(X_train, y_train)\n",
        "predictions = lm.predict(X_test)"
      ],
      "execution_count": 0,
      "outputs": []
    },
    {
      "metadata": {
        "id": "fiFfhyHb9wem",
        "colab_type": "code",
        "outputId": "6197590a-3deb-42fa-9983-dc3a8f7e9808",
        "colab": {
          "base_uri": "https://localhost:8080/",
          "height": 378
        }
      },
      "cell_type": "code",
      "source": [
        "## The line / model\n",
        "plt.scatter(y_test, predictions)\n",
        "plt.xlabel(\"True Values\")\n",
        "plt.ylabel(\"Predictions\")"
      ],
      "execution_count": 0,
      "outputs": [
        {
          "output_type": "execute_result",
          "data": {
            "text/plain": [
              "Text(0, 0.5, 'Predictions')"
            ]
          },
          "metadata": {
            "tags": []
          },
          "execution_count": 35
        },
        {
          "output_type": "display_data",
          "data": {
            "image/png": "[encoded data removed]",
            "text/plain": [
              "<Figure size 576x396 with 1 Axes>"
            ]
          },
          "metadata": {
            "tags": []
          }
        }
      ]
    },
    {
      "metadata": {
        "id": "_s4vINlt-eY3",
        "colab_type": "code",
        "outputId": "23c2008d-2d1d-4a89-8d1c-b912f1614266",
        "colab": {
          "base_uri": "https://localhost:8080/",
          "height": 34
        }
      },
      "cell_type": "code",
      "source": [
        "\n",
        "print  (model.score(X_test, y_test))"
      ],
      "execution_count": 0,
      "outputs": [
        {
          "output_type": "stream",
          "text": [
            "0.9363346242391141\n"
          ],
          "name": "stdout"
        }
      ]
    },
    {
      "metadata": {
        "id": "XGFBAClJ-WPw",
        "colab_type": "text"
      },
      "cell_type": "markdown",
      "source": [
        "# **More exploratory on Tax**"
      ]
    },
    {
      "metadata": {
        "id": "vQVAc5Sq-cM0",
        "colab_type": "text"
      },
      "cell_type": "markdown",
      "source": [
        ""
      ]
    },
    {
      "metadata": {
        "id": "N0PCfeC6_FNw",
        "colab_type": "code",
        "outputId": "9d648f01-d32d-4a22-a57c-e88b5164e72a",
        "colab": {
          "base_uri": "https://localhost:8080/",
          "height": 376
        }
      },
      "cell_type": "code",
      "source": [
        "import pandas as pd\n",
        "\n",
        "# Generate data on commute times.\n",
        "size, scale = 1000, 10\n",
        "commutes = pd.Series(df['yearbuilt'])\n",
        "\n",
        "commutes.plot.hist(grid=True, bins=20, rwidth=0.9,\n",
        "                   color='#607c8e')\n",
        "plt.title('Year Built')\n",
        "plt.xlabel('Counts')\n",
        "plt.ylabel('Units')\n",
        "plt.grid(axis='y', alpha=0.75)"
      ],
      "execution_count": 0,
      "outputs": [
        {
          "output_type": "display_data",
          "data": {
            "image/png": "[encoded data removed]",
            "text/plain": [
              "<Figure size 576x396 with 1 Axes>"
            ]
          },
          "metadata": {
            "tags": []
          }
        }
      ]
    },
    {
      "metadata": {
        "id": "W8XfKQgqAo_L",
        "colab_type": "code",
        "outputId": "24853f50-e269-4c49-daa9-6d7192478ab4",
        "colab": {
          "base_uri": "https://localhost:8080/",
          "height": 376
        }
      },
      "cell_type": "code",
      "source": [
        "import pandas as pd\n",
        "\n",
        "# Generate data on commute times.\n",
        "size, scale = 1000, 10\n",
        "commutes = pd.Series(df['bedroomcnt'])\n",
        "\n",
        "commutes.plot.hist(grid=True, bins=20, rwidth=0.9,\n",
        "                   color='#607c8e')\n",
        "plt.title('Bed Room Count')\n",
        "plt.xlabel('Counts')\n",
        "plt.ylabel('Units')\n",
        "plt.grid(axis='y', alpha=0.75)"
      ],
      "execution_count": 0,
      "outputs": [
        {
          "output_type": "display_data",
          "data": {
            "image/png": "[encoded data removed]",
            "text/plain": [
              "<Figure size 576x396 with 1 Axes>"
            ]
          },
          "metadata": {
            "tags": []
          }
        }
      ]
    },
    {
      "metadata": {
        "id": "sFEBu0pgBv4P",
        "colab_type": "code",
        "colab": {}
      },
      "cell_type": "code",
      "source": [
        ""
      ],
      "execution_count": 0,
      "outputs": []
    },
    {
      "metadata": {
        "id": "jmVy4eXdJL8X",
        "colab_type": "code",
        "colab": {}
      },
      "cell_type": "code",
      "source": [
        ""
      ],
      "execution_count": 0,
      "outputs": []
    },
    {
      "metadata": {
        "id": "HS51XwwQJQN2",
        "colab_type": "code",
        "outputId": "303f6096-2f32-4fe3-86a2-3c50b602d781",
        "colab": {
          "base_uri": "https://localhost:8080/",
          "height": 669
        }
      },
      "cell_type": "code",
      "source": [
        "df4_mean=df4.groupby(['bedroomcnt']).sum()\n",
        "df5=df4_mean.reset_index()\n",
        "df5"
      ],
      "execution_count": 0,
      "outputs": [
        {
          "output_type": "execute_result",
          "data": {
            "text/html": [
              "<div>\n",
              "<style scoped>\n",
              "    .dataframe tbody tr th:only-of-type {\n",
              "        vertical-align: middle;\n",
              "    }\n",
              "\n",
              "    .dataframe tbody tr th {\n",
              "        vertical-align: top;\n",
              "    }\n",
              "\n",
              "    .dataframe thead th {\n",
              "        text-align: right;\n",
              "    }\n",
              "</style>\n",
              "<table border=\"1\" class=\"dataframe\">\n",
              "  <thead>\n",
              "    <tr style=\"text-align: right;\">\n",
              "      <th></th>\n",
              "      <th>bedroomcnt</th>\n",
              "      <th>finishedsquarefeet12</th>\n",
              "      <th>fullbathcnt</th>\n",
              "    </tr>\n",
              "  </thead>\n",
              "  <tbody>\n",
              "    <tr>\n",
              "      <th>0</th>\n",
              "      <td>0.0</td>\n",
              "      <td>4.528789e+06</td>\n",
              "      <td>6582.0</td>\n",
              "    </tr>\n",
              "    <tr>\n",
              "      <th>1</th>\n",
              "      <td>1.0</td>\n",
              "      <td>6.754126e+07</td>\n",
              "      <td>95625.0</td>\n",
              "    </tr>\n",
              "    <tr>\n",
              "      <th>2</th>\n",
              "      <td>2.0</td>\n",
              "      <td>6.990171e+08</td>\n",
              "      <td>976827.0</td>\n",
              "    </tr>\n",
              "    <tr>\n",
              "      <th>3</th>\n",
              "      <td>3.0</td>\n",
              "      <td>1.829341e+09</td>\n",
              "      <td>2346588.0</td>\n",
              "    </tr>\n",
              "    <tr>\n",
              "      <th>4</th>\n",
              "      <td>4.0</td>\n",
              "      <td>1.487836e+09</td>\n",
              "      <td>1740494.0</td>\n",
              "    </tr>\n",
              "    <tr>\n",
              "      <th>5</th>\n",
              "      <td>5.0</td>\n",
              "      <td>4.857455e+08</td>\n",
              "      <td>535328.0</td>\n",
              "    </tr>\n",
              "    <tr>\n",
              "      <th>6</th>\n",
              "      <td>6.0</td>\n",
              "      <td>1.015413e+08</td>\n",
              "      <td>108319.0</td>\n",
              "    </tr>\n",
              "    <tr>\n",
              "      <th>7</th>\n",
              "      <td>7.0</td>\n",
              "      <td>2.446295e+07</td>\n",
              "      <td>24839.0</td>\n",
              "    </tr>\n",
              "    <tr>\n",
              "      <th>8</th>\n",
              "      <td>8.0</td>\n",
              "      <td>7.334290e+06</td>\n",
              "      <td>6936.0</td>\n",
              "    </tr>\n",
              "    <tr>\n",
              "      <th>9</th>\n",
              "      <td>9.0</td>\n",
              "      <td>2.124692e+06</td>\n",
              "      <td>2015.0</td>\n",
              "    </tr>\n",
              "    <tr>\n",
              "      <th>10</th>\n",
              "      <td>10.0</td>\n",
              "      <td>1.117258e+06</td>\n",
              "      <td>1023.0</td>\n",
              "    </tr>\n",
              "    <tr>\n",
              "      <th>11</th>\n",
              "      <td>11.0</td>\n",
              "      <td>3.298430e+05</td>\n",
              "      <td>279.0</td>\n",
              "    </tr>\n",
              "    <tr>\n",
              "      <th>12</th>\n",
              "      <td>12.0</td>\n",
              "      <td>1.583760e+05</td>\n",
              "      <td>151.0</td>\n",
              "    </tr>\n",
              "    <tr>\n",
              "      <th>13</th>\n",
              "      <td>13.0</td>\n",
              "      <td>1.573860e+05</td>\n",
              "      <td>124.0</td>\n",
              "    </tr>\n",
              "    <tr>\n",
              "      <th>14</th>\n",
              "      <td>14.0</td>\n",
              "      <td>3.043300e+04</td>\n",
              "      <td>27.0</td>\n",
              "    </tr>\n",
              "    <tr>\n",
              "      <th>15</th>\n",
              "      <td>15.0</td>\n",
              "      <td>4.533900e+04</td>\n",
              "      <td>57.0</td>\n",
              "    </tr>\n",
              "    <tr>\n",
              "      <th>16</th>\n",
              "      <td>16.0</td>\n",
              "      <td>3.280900e+04</td>\n",
              "      <td>64.0</td>\n",
              "    </tr>\n",
              "    <tr>\n",
              "      <th>17</th>\n",
              "      <td>17.0</td>\n",
              "      <td>1.007200e+04</td>\n",
              "      <td>17.0</td>\n",
              "    </tr>\n",
              "    <tr>\n",
              "      <th>18</th>\n",
              "      <td>18.0</td>\n",
              "      <td>2.722300e+04</td>\n",
              "      <td>48.0</td>\n",
              "    </tr>\n",
              "    <tr>\n",
              "      <th>19</th>\n",
              "      <td>20.0</td>\n",
              "      <td>2.066000e+04</td>\n",
              "      <td>36.0</td>\n",
              "    </tr>\n",
              "  </tbody>\n",
              "</table>\n",
              "</div>"
            ],
            "text/plain": [
              "    bedroomcnt  finishedsquarefeet12  fullbathcnt\n",
              "0          0.0          4.528789e+06       6582.0\n",
              "1          1.0          6.754126e+07      95625.0\n",
              "2          2.0          6.990171e+08     976827.0\n",
              "3          3.0          1.829341e+09    2346588.0\n",
              "4          4.0          1.487836e+09    1740494.0\n",
              "5          5.0          4.857455e+08     535328.0\n",
              "6          6.0          1.015413e+08     108319.0\n",
              "7          7.0          2.446295e+07      24839.0\n",
              "8          8.0          7.334290e+06       6936.0\n",
              "9          9.0          2.124692e+06       2015.0\n",
              "10        10.0          1.117258e+06       1023.0\n",
              "11        11.0          3.298430e+05        279.0\n",
              "12        12.0          1.583760e+05        151.0\n",
              "13        13.0          1.573860e+05        124.0\n",
              "14        14.0          3.043300e+04         27.0\n",
              "15        15.0          4.533900e+04         57.0\n",
              "16        16.0          3.280900e+04         64.0\n",
              "17        17.0          1.007200e+04         17.0\n",
              "18        18.0          2.722300e+04         48.0\n",
              "19        20.0          2.066000e+04         36.0"
            ]
          },
          "metadata": {
            "tags": []
          },
          "execution_count": 219
        }
      ]
    },
    {
      "metadata": {
        "id": "J-2QqHk8RqvE",
        "colab_type": "code",
        "colab": {}
      },
      "cell_type": "code",
      "source": [
        ""
      ],
      "execution_count": 0,
      "outputs": []
    },
    {
      "metadata": {
        "id": "bwy5O9R9cLOs",
        "colab_type": "code",
        "outputId": "3ae28b37-eae7-459c-c5e3-883bd1e3ff2b",
        "colab": {
          "base_uri": "https://localhost:8080/",
          "height": 904
        }
      },
      "cell_type": "code",
      "source": [
        "\n",
        "df2['hometaxvalue']=df2['structuretaxvaluedollarcnt']+df2['landtaxvaluedollarcnt']\n",
        "df2['structureratio']=df2['structuretaxvaluedollarcnt']/(df2['structuretaxvaluedollarcnt']+df2['landtaxvaluedollarcnt'])\n",
        "df2.head()\n",
        "df6_mean=df2.groupby(['bedroomcnt']).mean()\n",
        "df7=df6_mean.reset_index()\n",
        "df7"
      ],
      "execution_count": 0,
      "outputs": [
        {
          "output_type": "stream",
          "text": [
            "/usr/local/lib/python3.6/dist-packages/ipykernel_launcher.py:2: SettingWithCopyWarning: \n",
            "A value is trying to be set on a copy of a slice from a DataFrame.\n",
            "Try using .loc[row_indexer,col_indexer] = value instead\n",
            "\n",
            "See the caveats in the documentation: http://pandas.pydata.org/pandas-docs/stable/indexing.html#indexing-view-versus-copy\n",
            "  \n",
            "/usr/local/lib/python3.6/dist-packages/ipykernel_launcher.py:3: SettingWithCopyWarning: \n",
            "A value is trying to be set on a copy of a slice from a DataFrame.\n",
            "Try using .loc[row_indexer,col_indexer] = value instead\n",
            "\n",
            "See the caveats in the documentation: http://pandas.pydata.org/pandas-docs/stable/indexing.html#indexing-view-versus-copy\n",
            "  This is separate from the ipykernel package so we can avoid doing imports until\n"
          ],
          "name": "stderr"
        },
        {
          "output_type": "execute_result",
          "data": {
            "text/html": [
              "<div>\n",
              "<style scoped>\n",
              "    .dataframe tbody tr th:only-of-type {\n",
              "        vertical-align: middle;\n",
              "    }\n",
              "\n",
              "    .dataframe tbody tr th {\n",
              "        vertical-align: top;\n",
              "    }\n",
              "\n",
              "    .dataframe thead th {\n",
              "        text-align: right;\n",
              "    }\n",
              "</style>\n",
              "<table border=\"1\" class=\"dataframe\">\n",
              "  <thead>\n",
              "    <tr style=\"text-align: right;\">\n",
              "      <th></th>\n",
              "      <th>bedroomcnt</th>\n",
              "      <th>taxamount</th>\n",
              "      <th>landtaxvaluedollarcnt</th>\n",
              "      <th>structuretaxvaluedollarcnt</th>\n",
              "      <th>finishedsquarefeet12</th>\n",
              "      <th>fullbathcnt</th>\n",
              "      <th>hometaxvalue</th>\n",
              "      <th>structureratio</th>\n",
              "    </tr>\n",
              "  </thead>\n",
              "  <tbody>\n",
              "    <tr>\n",
              "      <th>0</th>\n",
              "      <td>0.0</td>\n",
              "      <td>5505.949156</td>\n",
              "      <td>3.722696e+05</td>\n",
              "      <td>2.378117e+05</td>\n",
              "      <td>1334.298409</td>\n",
              "      <td>1.409342</td>\n",
              "      <td>7.329111e+05</td>\n",
              "      <td>0.421080</td>\n",
              "    </tr>\n",
              "    <tr>\n",
              "      <th>1</th>\n",
              "      <td>1.0</td>\n",
              "      <td>3169.829803</td>\n",
              "      <td>1.482213e+05</td>\n",
              "      <td>9.415727e+04</td>\n",
              "      <td>807.091970</td>\n",
              "      <td>1.148909</td>\n",
              "      <td>2.422213e+05</td>\n",
              "      <td>0.446900</td>\n",
              "    </tr>\n",
              "    <tr>\n",
              "      <th>2</th>\n",
              "      <td>2.0</td>\n",
              "      <td>3996.175218</td>\n",
              "      <td>1.938282e+05</td>\n",
              "      <td>1.123206e+05</td>\n",
              "      <td>1194.617763</td>\n",
              "      <td>1.673469</td>\n",
              "      <td>3.060451e+05</td>\n",
              "      <td>0.421625</td>\n",
              "    </tr>\n",
              "    <tr>\n",
              "      <th>3</th>\n",
              "      <td>3.0</td>\n",
              "      <td>4719.435860</td>\n",
              "      <td>2.245235e+05</td>\n",
              "      <td>1.396225e+05</td>\n",
              "      <td>1607.014294</td>\n",
              "      <td>2.066544</td>\n",
              "      <td>3.640378e+05</td>\n",
              "      <td>0.451394</td>\n",
              "    </tr>\n",
              "    <tr>\n",
              "      <th>4</th>\n",
              "      <td>4.0</td>\n",
              "      <td>6153.396248</td>\n",
              "      <td>2.798495e+05</td>\n",
              "      <td>2.053025e+05</td>\n",
              "      <td>2216.388725</td>\n",
              "      <td>2.598017</td>\n",
              "      <td>4.849652e+05</td>\n",
              "      <td>0.490754</td>\n",
              "    </tr>\n",
              "    <tr>\n",
              "      <th>5</th>\n",
              "      <td>5.0</td>\n",
              "      <td>9544.523082</td>\n",
              "      <td>4.233213e+05</td>\n",
              "      <td>3.400431e+05</td>\n",
              "      <td>3142.742508</td>\n",
              "      <td>3.409452</td>\n",
              "      <td>7.632652e+05</td>\n",
              "      <td>0.509934</td>\n",
              "    </tr>\n",
              "    <tr>\n",
              "      <th>6</th>\n",
              "      <td>6.0</td>\n",
              "      <td>10913.379802</td>\n",
              "      <td>4.813291e+05</td>\n",
              "      <td>3.823734e+05</td>\n",
              "      <td>4020.181520</td>\n",
              "      <td>4.013581</td>\n",
              "      <td>8.640141e+05</td>\n",
              "      <td>0.507859</td>\n",
              "    </tr>\n",
              "    <tr>\n",
              "      <th>7</th>\n",
              "      <td>7.0</td>\n",
              "      <td>13109.537879</td>\n",
              "      <td>5.806403e+05</td>\n",
              "      <td>4.528131e+05</td>\n",
              "      <td>5099.452095</td>\n",
              "      <td>4.621821</td>\n",
              "      <td>1.031422e+06</td>\n",
              "      <td>0.520858</td>\n",
              "    </tr>\n",
              "    <tr>\n",
              "      <th>8</th>\n",
              "      <td>8.0</td>\n",
              "      <td>9319.283497</td>\n",
              "      <td>3.874994e+05</td>\n",
              "      <td>3.132436e+05</td>\n",
              "      <td>6624.695964</td>\n",
              "      <td>4.885206</td>\n",
              "      <td>7.003309e+05</td>\n",
              "      <td>0.514029</td>\n",
              "    </tr>\n",
              "    <tr>\n",
              "      <th>9</th>\n",
              "      <td>9.0</td>\n",
              "      <td>10250.905985</td>\n",
              "      <td>4.137701e+05</td>\n",
              "      <td>3.532219e+05</td>\n",
              "      <td>7124.239203</td>\n",
              "      <td>6.056930</td>\n",
              "      <td>7.665406e+05</td>\n",
              "      <td>0.548167</td>\n",
              "    </tr>\n",
              "    <tr>\n",
              "      <th>10</th>\n",
              "      <td>10.0</td>\n",
              "      <td>11632.540404</td>\n",
              "      <td>4.293054e+05</td>\n",
              "      <td>4.171435e+05</td>\n",
              "      <td>9031.484127</td>\n",
              "      <td>6.571346</td>\n",
              "      <td>8.476007e+05</td>\n",
              "      <td>0.559558</td>\n",
              "    </tr>\n",
              "    <tr>\n",
              "      <th>11</th>\n",
              "      <td>11.0</td>\n",
              "      <td>15655.627304</td>\n",
              "      <td>5.470060e+05</td>\n",
              "      <td>6.585022e+05</td>\n",
              "      <td>11286.812500</td>\n",
              "      <td>6.622426</td>\n",
              "      <td>1.207714e+06</td>\n",
              "      <td>0.556493</td>\n",
              "    </tr>\n",
              "    <tr>\n",
              "      <th>12</th>\n",
              "      <td>12.0</td>\n",
              "      <td>10124.821686</td>\n",
              "      <td>4.065679e+05</td>\n",
              "      <td>3.584681e+05</td>\n",
              "      <td>9898.500000</td>\n",
              "      <td>7.201638</td>\n",
              "      <td>7.628419e+05</td>\n",
              "      <td>0.558452</td>\n",
              "    </tr>\n",
              "    <tr>\n",
              "      <th>13</th>\n",
              "      <td>13.0</td>\n",
              "      <td>20646.143793</td>\n",
              "      <td>9.779277e+05</td>\n",
              "      <td>5.922584e+05</td>\n",
              "      <td>11241.857143</td>\n",
              "      <td>8.157303</td>\n",
              "      <td>1.581215e+06</td>\n",
              "      <td>0.571328</td>\n",
              "    </tr>\n",
              "    <tr>\n",
              "      <th>14</th>\n",
              "      <td>14.0</td>\n",
              "      <td>14268.784648</td>\n",
              "      <td>6.055604e+05</td>\n",
              "      <td>5.659476e+05</td>\n",
              "      <td>11135.200000</td>\n",
              "      <td>8.319444</td>\n",
              "      <td>1.179816e+06</td>\n",
              "      <td>0.524067</td>\n",
              "    </tr>\n",
              "    <tr>\n",
              "      <th>15</th>\n",
              "      <td>15.0</td>\n",
              "      <td>11684.820800</td>\n",
              "      <td>4.731785e+05</td>\n",
              "      <td>4.816623e+05</td>\n",
              "      <td>8563.166667</td>\n",
              "      <td>9.615385</td>\n",
              "      <td>9.479572e+05</td>\n",
              "      <td>0.494358</td>\n",
              "    </tr>\n",
              "    <tr>\n",
              "      <th>16</th>\n",
              "      <td>16.0</td>\n",
              "      <td>11390.874426</td>\n",
              "      <td>3.915463e+05</td>\n",
              "      <td>5.155651e+05</td>\n",
              "      <td>6561.800000</td>\n",
              "      <td>10.109375</td>\n",
              "      <td>9.157443e+05</td>\n",
              "      <td>0.568136</td>\n",
              "    </tr>\n",
              "    <tr>\n",
              "      <th>17</th>\n",
              "      <td>17.0</td>\n",
              "      <td>6706.847500</td>\n",
              "      <td>1.335792e+05</td>\n",
              "      <td>3.121061e+05</td>\n",
              "      <td>10072.000000</td>\n",
              "      <td>9.750000</td>\n",
              "      <td>4.456854e+05</td>\n",
              "      <td>0.642825</td>\n",
              "    </tr>\n",
              "    <tr>\n",
              "      <th>18</th>\n",
              "      <td>18.0</td>\n",
              "      <td>36814.831000</td>\n",
              "      <td>1.544384e+06</td>\n",
              "      <td>1.260470e+06</td>\n",
              "      <td>13334.750000</td>\n",
              "      <td>12.111111</td>\n",
              "      <td>2.804854e+06</td>\n",
              "      <td>0.447063</td>\n",
              "    </tr>\n",
              "    <tr>\n",
              "      <th>19</th>\n",
              "      <td>19.0</td>\n",
              "      <td>8247.660000</td>\n",
              "      <td>2.530637e+05</td>\n",
              "      <td>3.437937e+05</td>\n",
              "      <td>NaN</td>\n",
              "      <td>9.333333</td>\n",
              "      <td>5.968573e+05</td>\n",
              "      <td>0.540682</td>\n",
              "    </tr>\n",
              "    <tr>\n",
              "      <th>20</th>\n",
              "      <td>20.0</td>\n",
              "      <td>20051.495833</td>\n",
              "      <td>9.117472e+05</td>\n",
              "      <td>9.212405e+05</td>\n",
              "      <td>10330.000000</td>\n",
              "      <td>12.545455</td>\n",
              "      <td>1.832988e+06</td>\n",
              "      <td>0.570221</td>\n",
              "    </tr>\n",
              "  </tbody>\n",
              "</table>\n",
              "</div>"
            ],
            "text/plain": [
              "    bedroomcnt     taxamount  landtaxvaluedollarcnt  \\\n",
              "0          0.0   5505.949156           3.722696e+05   \n",
              "1          1.0   3169.829803           1.482213e+05   \n",
              "2          2.0   3996.175218           1.938282e+05   \n",
              "3          3.0   4719.435860           2.245235e+05   \n",
              "4          4.0   6153.396248           2.798495e+05   \n",
              "5          5.0   9544.523082           4.233213e+05   \n",
              "6          6.0  10913.379802           4.813291e+05   \n",
              "7          7.0  13109.537879           5.806403e+05   \n",
              "8          8.0   9319.283497           3.874994e+05   \n",
              "9          9.0  10250.905985           4.137701e+05   \n",
              "10        10.0  11632.540404           4.293054e+05   \n",
              "11        11.0  15655.627304           5.470060e+05   \n",
              "12        12.0  10124.821686           4.065679e+05   \n",
              "13        13.0  20646.143793           9.779277e+05   \n",
              "14        14.0  14268.784648           6.055604e+05   \n",
              "15        15.0  11684.820800           4.731785e+05   \n",
              "16        16.0  11390.874426           3.915463e+05   \n",
              "17        17.0   6706.847500           1.335792e+05   \n",
              "18        18.0  36814.831000           1.544384e+06   \n",
              "19        19.0   8247.660000           2.530637e+05   \n",
              "20        20.0  20051.495833           9.117472e+05   \n",
              "\n",
              "    structuretaxvaluedollarcnt  finishedsquarefeet12  fullbathcnt  \\\n",
              "0                 2.378117e+05           1334.298409     1.409342   \n",
              "1                 9.415727e+04            807.091970     1.148909   \n",
              "2                 1.123206e+05           1194.617763     1.673469   \n",
              "3                 1.396225e+05           1607.014294     2.066544   \n",
              "4                 2.053025e+05           2216.388725     2.598017   \n",
              "5                 3.400431e+05           3142.742508     3.409452   \n",
              "6                 3.823734e+05           4020.181520     4.013581   \n",
              "7                 4.528131e+05           5099.452095     4.621821   \n",
              "8                 3.132436e+05           6624.695964     4.885206   \n",
              "9                 3.532219e+05           7124.239203     6.056930   \n",
              "10                4.171435e+05           9031.484127     6.571346   \n",
              "11                6.585022e+05          11286.812500     6.622426   \n",
              "12                3.584681e+05           9898.500000     7.201638   \n",
              "13                5.922584e+05          11241.857143     8.157303   \n",
              "14                5.659476e+05          11135.200000     8.319444   \n",
              "15                4.816623e+05           8563.166667     9.615385   \n",
              "16                5.155651e+05           6561.800000    10.109375   \n",
              "17                3.121061e+05          10072.000000     9.750000   \n",
              "18                1.260470e+06          13334.750000    12.111111   \n",
              "19                3.437937e+05                   NaN     9.333333   \n",
              "20                9.212405e+05          10330.000000    12.545455   \n",
              "\n",
              "    hometaxvalue  structureratio  \n",
              "0   7.329111e+05        0.421080  \n",
              "1   2.422213e+05        0.446900  \n",
              "2   3.060451e+05        0.421625  \n",
              "3   3.640378e+05        0.451394  \n",
              "4   4.849652e+05        0.490754  \n",
              "5   7.632652e+05        0.509934  \n",
              "6   8.640141e+05        0.507859  \n",
              "7   1.031422e+06        0.520858  \n",
              "8   7.003309e+05        0.514029  \n",
              "9   7.665406e+05        0.548167  \n",
              "10  8.476007e+05        0.559558  \n",
              "11  1.207714e+06        0.556493  \n",
              "12  7.628419e+05        0.558452  \n",
              "13  1.581215e+06        0.571328  \n",
              "14  1.179816e+06        0.524067  \n",
              "15  9.479572e+05        0.494358  \n",
              "16  9.157443e+05        0.568136  \n",
              "17  4.456854e+05        0.642825  \n",
              "18  2.804854e+06        0.447063  \n",
              "19  5.968573e+05        0.540682  \n",
              "20  1.832988e+06        0.570221  "
            ]
          },
          "metadata": {
            "tags": []
          },
          "execution_count": 222
        }
      ]
    },
    {
      "metadata": {
        "id": "EwdwcgzcxKe8",
        "colab_type": "code",
        "colab": {}
      },
      "cell_type": "code",
      "source": [
        ""
      ],
      "execution_count": 0,
      "outputs": []
    },
    {
      "metadata": {
        "id": "7Zt5L2HPjaNv",
        "colab_type": "code",
        "colab": {}
      },
      "cell_type": "code",
      "source": [
        ""
      ],
      "execution_count": 0,
      "outputs": []
    },
    {
      "metadata": {
        "id": "VQJaeBqCgvvf",
        "colab_type": "code",
        "outputId": "8d09f31a-df7c-432f-f469-1bbf452bd7c3",
        "colab": {
          "base_uri": "https://localhost:8080/",
          "height": 395
        }
      },
      "cell_type": "code",
      "source": [
        "\n",
        "import seaborn as sns\n",
        "sns.set(style=\"whitegrid\")\n",
        "ax = sns.barplot(x=\"bedroomcnt\", y=\"landtaxvaluedollarcnt\", data=df7)"
      ],
      "execution_count": 0,
      "outputs": [
        {
          "output_type": "stream",
          "text": [
            "/usr/local/lib/python3.6/dist-packages/seaborn/categorical.py:1428: FutureWarning: remove_na is deprecated and is a private function. Do not use.\n",
            "  stat_data = remove_na(group_data)\n"
          ],
          "name": "stderr"
        },
        {
          "output_type": "display_data",
          "data": {
            "image/png": "[encoded data removed]",
            "text/plain": [
              "<Figure size 576x396 with 1 Axes>"
            ]
          },
          "metadata": {
            "tags": []
          }
        }
      ]
    },
    {
      "metadata": {
        "id": "ecHnOVkGuBFV",
        "colab_type": "code",
        "outputId": "55ea9b7e-a5b8-4b7c-ae8c-21db6b7fe844",
        "colab": {
          "base_uri": "https://localhost:8080/",
          "height": 395
        }
      },
      "cell_type": "code",
      "source": [
        "\n",
        "import seaborn as sns\n",
        "sns.set(style=\"whitegrid\")\n",
        "ax = sns.barplot(x=\"bedroomcnt\", y=\"structuretaxvaluedollarcnt\", data=df7)"
      ],
      "execution_count": 0,
      "outputs": [
        {
          "output_type": "stream",
          "text": [
            "/usr/local/lib/python3.6/dist-packages/seaborn/categorical.py:1428: FutureWarning: remove_na is deprecated and is a private function. Do not use.\n",
            "  stat_data = remove_na(group_data)\n"
          ],
          "name": "stderr"
        },
        {
          "output_type": "display_data",
          "data": {
            "image/png": "[encoded data removed]",
            "text/plain": [
              "<Figure size 576x396 with 1 Axes>"
            ]
          },
          "metadata": {
            "tags": []
          }
        }
      ]
    },
    {
      "metadata": {
        "id": "oW6NXJh6g25R",
        "colab_type": "code",
        "outputId": "1b127ea2-0600-4523-e6cf-c99ed3796300",
        "colab": {
          "base_uri": "https://localhost:8080/",
          "height": 395
        }
      },
      "cell_type": "code",
      "source": [
        "\n",
        "import seaborn as sns\n",
        "sns.set(style=\"whitegrid\")\n",
        "ax = sns.barplot(x=\"bedroomcnt\", y=\"structureratio\", data=df7)"
      ],
      "execution_count": 0,
      "outputs": [
        {
          "output_type": "stream",
          "text": [
            "/usr/local/lib/python3.6/dist-packages/seaborn/categorical.py:1428: FutureWarning: remove_na is deprecated and is a private function. Do not use.\n",
            "  stat_data = remove_na(group_data)\n"
          ],
          "name": "stderr"
        },
        {
          "output_type": "display_data",
          "data": {
            "image/png": "[encoded data removed]",
            "text/plain": [
              "<Figure size 576x396 with 1 Axes>"
            ]
          },
          "metadata": {
            "tags": []
          }
        }
      ]
    },
    {
      "metadata": {
        "id": "-BzQywxSzn3s",
        "colab_type": "code",
        "colab": {}
      },
      "cell_type": "code",
      "source": [
        ""
      ],
      "execution_count": 0,
      "outputs": []
    },
    {
      "metadata": {
        "id": "uctilSI02VXZ",
        "colab_type": "text"
      },
      "cell_type": "markdown",
      "source": [
        "# **Conclusion**"
      ]
    },
    {
      "metadata": {
        "id": "LFknjprdEAIQ",
        "colab_type": "text"
      },
      "cell_type": "markdown",
      "source": [
        "\n",
        "\n",
        "1.   Tax amount are driven by 'bedroomcnt','finishedsquarefeet12','fullbathcnt'\n",
        "2.   When including 'landtaxvalue','structuretaxavalue', model yields 93% accuracy.\n",
        "3. Deep diving into the data reveals that there might be opporunity to tax properties with high bedroom count. The tax on structure is relatively flat across the bedroom count. This means that, properties such as large apartment complex, even though they have more structure they are being tax as if their contribution to the property is similar to residence.\n",
        "\n",
        "\n"
      ]
    },
    {
      "metadata": {
        "id": "BPb537L44Kfk",
        "colab_type": "code",
        "colab": {}
      },
      "cell_type": "code",
      "source": [
        ""
      ],
      "execution_count": 0,
      "outputs": []
    }
  ]
}