{
  "nbformat": 4,
  "nbformat_minor": 0,
  "metadata": {
    "colab": {
      "name": "v3 BAX452-Final.ipynb",
      "version": "0.3.2",
      "provenance": [],
      "collapsed_sections": [],
      "include_colab_link": true
    },
    "kernelspec": {
      "name": "python3",
      "display_name": "Python 3"
    },
    "accelerator": "TPU"
  },
  "cells": [
    {
      "cell_type": "markdown",
      "metadata": {
        "id": "view-in-github",
        "colab_type": "text"
      },
      "source": [
        "<a href=\"https://colab.research.google.com/github/bqnguyen/bqnguyen.github.io/blob/master/v3_BAX452_Final.ipynb\" target=\"_parent\"><img src=\"https://colab.research.google.com/assets/colab-badge.svg\" alt=\"Open In Colab\"/></a>"
      ]
    },
    {
      "metadata": {
        "id": "xSBoMgN4lRAr",
        "colab_type": "text"
      },
      "cell_type": "markdown",
      "source": [
        ""
      ]
    },
    {
      "metadata": {
        "id": "bG6eVSevY5_z",
        "colab_type": "text"
      },
      "cell_type": "markdown",
      "source": [
        "# **Introduction**"
      ]
    },
    {
      "metadata": {
        "id": "Cy4p6fgjvuef",
        "colab_type": "text"
      },
      "cell_type": "markdown",
      "source": [
        "\n",
        "\n",
        "\n",
        "*   \n",
        "#  \"State and local governments collected a combined $488 billion in revenue from property taxes, or 17 percent of general revenue in **2015**\"**bold text**\n",
        "\n",
        "\n",
        "\n",
        "\n"
      ]
    },
    {
      "metadata": {
        "id": "061q9uTC1UmN",
        "colab_type": "text"
      },
      "cell_type": "markdown",
      "source": [
        "\n",
        "*   # \"Local governments collected $473 billion in property taxes or 30 percent of local government general revenue\""
      ]
    },
    {
      "metadata": {
        "id": "n02nvjXCvakz",
        "colab_type": "text"
      },
      "cell_type": "markdown",
      "source": [
        "<img src=\"http://siliconvalleyfreetutoring.org/img/PastedGraphic-1.png?format=250w\" >\n",
        "\n"
      ]
    },
    {
      "metadata": {
        "id": "MyWoCv695nod",
        "colab_type": "code",
        "outputId": "1af91592-3e3e-4907-86fa-c350587d6114",
        "colab": {
          "base_uri": "https://localhost:8080/",
          "height": 122
        }
      },
      "cell_type": "code",
      "source": [
        "from google.colab import drive\n",
        "drive.mount('/content/gdrive')"
      ],
      "execution_count": 0,
      "outputs": [
        {
          "output_type": "stream",
          "text": [
            "Go to this URL in a browser: https://accounts.google.com/o/oauth2/auth?client_id=947318989803-6bn6qk8qdgf4n4g3pfee6491hc0brc4i.apps.googleusercontent.com&redirect_uri=urn%3Aietf%3Awg%3Aoauth%3A2.0%3Aoob&scope=email%20https%3A%2F%2Fwww.googleapis.com%2Fauth%2Fdocs.test%20https%3A%2F%2Fwww.googleapis.com%2Fauth%2Fdrive%20https%3A%2F%2Fwww.googleapis.com%2Fauth%2Fdrive.photos.readonly%20https%3A%2F%2Fwww.googleapis.com%2Fauth%2Fpeopleapi.readonly&response_type=code\n",
            "\n",
            "Enter your authorization code:\n",
            "··········\n",
            "Mounted at /content/gdrive\n"
          ],
          "name": "stdout"
        }
      ]
    },
    {
      "metadata": {
        "id": "Y_IEtysrbyCG",
        "colab_type": "text"
      },
      "cell_type": "markdown",
      "source": [
        "### list in python"
      ]
    },
    {
      "metadata": {
        "id": "ws2U1dVIaCDf",
        "colab_type": "code",
        "outputId": "b27e6c13-6dab-4228-f892-aabbb038b6c7",
        "colab": {
          "base_uri": "https://localhost:8080/",
          "height": 850
        }
      },
      "cell_type": "code",
      "source": [
        "import os;os.listdir(\"/content/gdrive/My Drive\")"
      ],
      "execution_count": 5,
      "outputs": [
        {
          "output_type": "execute_result",
          "data": {
            "text/plain": [
              "['Efron Slide.pptx - Pie chart 1.gsheet',\n",
              " 'SMUD',\n",
              " 'Nguyen,Bao802727442a.jpg',\n",
              " \"Julie's Class\",\n",
              " 'results-20171012-115042.csv.gsheet',\n",
              " 'Copy of SMUD Questions with Bao notes.gdoc',\n",
              " 'Bao Nguyen resume (20171012).docx',\n",
              " 'Bao Nguyen resume (20170918).docx',\n",
              " 'results-20171103-021253.csv.gsheet',\n",
              " 'Homework Assignment 1.docx',\n",
              " 'Untitled spreadsheet.gsheet',\n",
              " 'ITS_original.twb',\n",
              " 'Untitled document.gdoc',\n",
              " 'Colab Notebooks',\n",
              " 'ITS_fullData.sas',\n",
              " 'ITS_utilization.twb',\n",
              " 'train.csv',\n",
              " 'pragmaticai-test.gsheet',\n",
              " 'train.gsheet',\n",
              " 'test.csv',\n",
              " 'test.gsheet',\n",
              " 'BAX 452 - Machine Learning HW1 - Titanic Analysis.gdoc',\n",
              " 'BAX 452-Machine Learning HW2.gdoc',\n",
              " 'kaggle.json',\n",
              " 'Test_Data_1.xlsx',\n",
              " 'Test_Data_1.csv',\n",
              " 'BAX - Machine Learning - HW 3.gdoc',\n",
              " 'BAX 452 - Machine Learning HW4.gdoc',\n",
              " 'BAX 452- Machine Learning - HW 5.gdoc',\n",
              " 'BAX 452 - HW6.gdoc',\n",
              " 'ML Homework 7 - recommendattion engine.gdoc',\n",
              " 'properties_2016.csv',\n",
              " 'BAX 452 - Individual Project: Taxation in Southern Californi - Line chart 1.gsheet',\n",
              " 'BAX 452 - Individual Project: Taxation in Southern Californi.gdoc',\n",
              " 'discussion8.gdoc',\n",
              " 'awsml',\n",
              " 'BAX 452 - HW8 - AutoML.docx',\n",
              " 'BAX 452 - HW8 - AutoML.gdoc',\n",
              " 'clip_image001.png',\n",
              " 'clip_image003.png',\n",
              " 'clip_image002.png',\n",
              " 'clip_image004.png',\n",
              " 'aclImdb_v1.tar.gz',\n",
              " 'aclImdb',\n",
              " 'ls.lst',\n",
              " 'neg.txt',\n",
              " 'ls.txt',\n",
              " 'BAX452 - Machine Learning.gdoc',\n",
              " 'properties_2017.csv']"
            ]
          },
          "metadata": {
            "tags": []
          },
          "execution_count": 5
        }
      ]
    },
    {
      "metadata": {
        "id": "23kiNSVkb09I",
        "colab_type": "text"
      },
      "cell_type": "markdown",
      "source": [
        "### list in bash"
      ]
    },
    {
      "metadata": {
        "id": "5GIbH4AgbjhL",
        "colab_type": "code",
        "outputId": "eb3d2680-2dfc-4fd7-852c-3cb69ab1ccb0",
        "colab": {
          "base_uri": "https://localhost:8080/",
          "height": 867
        }
      },
      "cell_type": "code",
      "source": [
        "!ls -l /content/gdrive/My\\ Drive"
      ],
      "execution_count": 6,
      "outputs": [
        {
          "output_type": "stream",
          "text": [
            "total 1364062\n",
            "drwx------ 2 root root      4096 Mar 11 06:26  aclImdb\n",
            "-rw------- 1 root root  84125825 Mar 11 06:17  aclImdb_v1.tar.gz\n",
            "drwx------ 2 root root      4096 Feb 28 08:12  awsml\n",
            "-rw------- 1 root root     23313 Oct 20  2017 'Bao Nguyen resume (20170918).docx'\n",
            "-rw------- 1 root root     22531 Oct 20  2017 'Bao Nguyen resume (20171012).docx'\n",
            "-rw------- 1 root root         1 Feb 15 05:01 'BAX 452 - HW6.gdoc'\n",
            "-rw------- 1 root root   2654199 Mar  1 03:36 'BAX 452 - HW8 - AutoML.docx'\n",
            "-rw------- 1 root root         1 Mar  1 03:37 'BAX 452 - HW8 - AutoML.gdoc'\n",
            "-rw------- 1 root root         1 Feb 27 03:45 'BAX 452 - Individual Project: Taxation in Southern Californi.gdoc'\n",
            "-rw------- 1 root root         1 Feb 27 03:39 'BAX 452 - Individual Project: Taxation in Southern Californi - Line chart 1.gsheet'\n",
            "-rw------- 1 root root         1 Mar 17 21:36 'BAX452 - Machine Learning.gdoc'\n",
            "-rw------- 1 root root         1 Jan 18 07:03 'BAX 452 - Machine Learning HW1 - Titanic Analysis.gdoc'\n",
            "-rw------- 1 root root         1 Jan 18 07:37 'BAX 452-Machine Learning HW2.gdoc'\n",
            "-rw------- 1 root root         1 Jan 31 05:11 'BAX 452 - Machine Learning HW4.gdoc'\n",
            "-rw------- 1 root root         1 Feb  6 09:13 'BAX 452- Machine Learning - HW 5.gdoc'\n",
            "-rw------- 1 root root         1 Jan 25 05:46 'BAX - Machine Learning - HW 3.gdoc'\n",
            "-rw------- 1 root root    122491 Mar  1 03:48  clip_image001.png\n",
            "-rw------- 1 root root    122491 Mar  1 03:48  clip_image002.png\n",
            "-rw------- 1 root root    122491 Mar  1 03:48  clip_image003.png\n",
            "-rw------- 1 root root    122491 Mar  1 03:48  clip_image004.png\n",
            "drwx------ 2 root root      4096 Jan  4 21:57 'Colab Notebooks'\n",
            "-rw------- 1 root root         1 Oct 12  2017 'Copy of SMUD Questions with Bao notes.gdoc'\n",
            "-rw------- 1 root root         1 Feb 27 04:03  discussion8.gdoc\n",
            "-rw------- 1 root root         1 Sep 22  2017 'Efron Slide.pptx - Pie chart 1.gsheet'\n",
            "-rw------- 1 root root     60463 Sep 12  2018 'Homework Assignment 1.docx'\n",
            "-rw------- 1 root root     12454 Jan  9 04:08  ITS_fullData.sas\n",
            "-rw------- 1 root root    475177 Oct 24 02:41  ITS_original.twb\n",
            "-rw------- 1 root root    751020 Jan  9 04:09  ITS_utilization.twb\n",
            "drwx------ 2 root root      4096 Oct 10  2017 \"Julie's Class\"\n",
            "-rw------- 1 root root        64 Jan 19 03:48  kaggle.json\n",
            "-rw------- 1 root root      1138 Mar 16 21:05  ls.lst\n",
            "-rw------- 1 root root      1153 Mar 16 23:01  ls.txt\n",
            "-rw------- 1 root root         1 Feb 21 11:02 'ML Homework 7 - recommendattion engine.gdoc'\n",
            "-rw------- 1 root root      1153 Mar 16 21:20  neg.txt\n",
            "-rw------- 1 root root   9029734 Sep 30  2017  Nguyen,Bao802727442a.jpg\n",
            "-rw------- 1 root root         1 Jan 18 01:48  pragmaticai-test.gsheet\n",
            "-rw------- 1 root root 648820905 Feb 23 11:01  properties_2016.csv\n",
            "-rw------- 1 root root 650093621 Mar 22 06:45  properties_2017.csv\n",
            "-rw------- 1 root root         1 Oct 12  2017  results-20171012-115042.csv.gsheet\n",
            "-rw------- 1 root root         1 Nov  3  2017  results-20171103-021253.csv.gsheet\n",
            "drwx------ 2 root root      4096 Sep 26  2017  SMUD\n",
            "-rw------- 1 root root     28629 Jan 18 04:50  test.csv\n",
            "-rw------- 1 root root     40802 Jan 22 00:31  Test_Data_1.csv\n",
            "-rw------- 1 root root     67179 Jan 22 00:05  Test_Data_1.xlsx\n",
            "-rw------- 1 root root         1 Jan 18 04:50  test.gsheet\n",
            "-rw------- 1 root root     61194 Jan 18 01:45  train.csv\n",
            "-rw------- 1 root root         1 Jan 18 01:49  train.gsheet\n",
            "-rw------- 1 root root         1 Nov  2 04:01 'Untitled document.gdoc'\n",
            "-rw------- 1 root root         1 Sep 12  2018 'Untitled spreadsheet.gsheet'\n"
          ],
          "name": "stdout"
        }
      ]
    },
    {
      "metadata": {
        "id": "4XeQ5w7xHwfu",
        "colab_type": "text"
      },
      "cell_type": "markdown",
      "source": [
        "### Import Libraries"
      ]
    },
    {
      "metadata": {
        "id": "HEAo5YXVH1Q_",
        "colab_type": "code",
        "colab": {}
      },
      "cell_type": "code",
      "source": [
        "import pandas as pd\n",
        "import matplotlib.pyplot as plt\n",
        "import seaborn as sns\n",
        "%matplotlib inline"
      ],
      "execution_count": 0,
      "outputs": []
    },
    {
      "metadata": {
        "id": "JMLQm0NYgRPl",
        "colab_type": "text"
      },
      "cell_type": "markdown",
      "source": [
        "### Load into Pandas"
      ]
    },
    {
      "metadata": {
        "id": "U1OTBFXZxdRd",
        "colab_type": "code",
        "outputId": "e494f10f-4c2a-459e-ec94-924a60079b0a",
        "colab": {
          "base_uri": "https://localhost:8080/",
          "height": 34
        }
      },
      "cell_type": "code",
      "source": [
        "%cd /content/gdrive/My\\ Drive"
      ],
      "execution_count": 8,
      "outputs": [
        {
          "output_type": "stream",
          "text": [
            "/content/gdrive/My Drive\n"
          ],
          "name": "stdout"
        }
      ]
    },
    {
      "metadata": {
        "id": "mgFosNT7Kz_I",
        "colab_type": "code",
        "colab": {
          "base_uri": "https://localhost:8080/",
          "height": 258
        },
        "outputId": "c34ec727-eb5a-4cef-c719-cabd450600ba"
      },
      "cell_type": "code",
      "source": [
        "df2016 = pd.read_csv(\"properties_2016.csv\")\n",
        "df2016['structure_value2016']=df2016['structuretaxvaluedollarcnt']\n",
        "df2016['land_value2016']=df2016['landtaxvaluedollarcnt']\n",
        "df2016_key=df2016[['parcelid','structure_value2016','land_value2016']]\n",
        "df2016_key.head()"
      ],
      "execution_count": 9,
      "outputs": [
        {
          "output_type": "stream",
          "text": [
            "/usr/local/lib/python3.6/dist-packages/IPython/core/interactiveshell.py:2718: DtypeWarning: Columns (22,32,34,49,55) have mixed types. Specify dtype option on import or set low_memory=False.\n",
            "  interactivity=interactivity, compiler=compiler, result=result)\n"
          ],
          "name": "stderr"
        },
        {
          "output_type": "execute_result",
          "data": {
            "text/html": [
              "<div>\n",
              "<style scoped>\n",
              "    .dataframe tbody tr th:only-of-type {\n",
              "        vertical-align: middle;\n",
              "    }\n",
              "\n",
              "    .dataframe tbody tr th {\n",
              "        vertical-align: top;\n",
              "    }\n",
              "\n",
              "    .dataframe thead th {\n",
              "        text-align: right;\n",
              "    }\n",
              "</style>\n",
              "<table border=\"1\" class=\"dataframe\">\n",
              "  <thead>\n",
              "    <tr style=\"text-align: right;\">\n",
              "      <th></th>\n",
              "      <th>parcelid</th>\n",
              "      <th>structure_value2016</th>\n",
              "      <th>land_value2016</th>\n",
              "    </tr>\n",
              "  </thead>\n",
              "  <tbody>\n",
              "    <tr>\n",
              "      <th>0</th>\n",
              "      <td>10754147</td>\n",
              "      <td>NaN</td>\n",
              "      <td>9.0</td>\n",
              "    </tr>\n",
              "    <tr>\n",
              "      <th>1</th>\n",
              "      <td>10759547</td>\n",
              "      <td>NaN</td>\n",
              "      <td>27516.0</td>\n",
              "    </tr>\n",
              "    <tr>\n",
              "      <th>2</th>\n",
              "      <td>10843547</td>\n",
              "      <td>650756.0</td>\n",
              "      <td>762631.0</td>\n",
              "    </tr>\n",
              "    <tr>\n",
              "      <th>3</th>\n",
              "      <td>10859147</td>\n",
              "      <td>571346.0</td>\n",
              "      <td>585488.0</td>\n",
              "    </tr>\n",
              "    <tr>\n",
              "      <th>4</th>\n",
              "      <td>10879947</td>\n",
              "      <td>193796.0</td>\n",
              "      <td>239695.0</td>\n",
              "    </tr>\n",
              "  </tbody>\n",
              "</table>\n",
              "</div>"
            ],
            "text/plain": [
              "   parcelid  structure_value2016  land_value2016\n",
              "0  10754147                  NaN             9.0\n",
              "1  10759547                  NaN         27516.0\n",
              "2  10843547             650756.0        762631.0\n",
              "3  10859147             571346.0        585488.0\n",
              "4  10879947             193796.0        239695.0"
            ]
          },
          "metadata": {
            "tags": []
          },
          "execution_count": 9
        }
      ]
    },
    {
      "metadata": {
        "id": "AboU3GEPG7Gi",
        "colab_type": "code",
        "outputId": "8ffd53a6-f459-47bb-c7b5-59fad87bc4ad",
        "colab": {
          "base_uri": "https://localhost:8080/",
          "height": 287
        }
      },
      "cell_type": "code",
      "source": [
        "import pandas as pd\n",
        "df_2017 = pd.read_csv(\"properties_2017.csv\")\n",
        "df_2017.head()"
      ],
      "execution_count": 10,
      "outputs": [
        {
          "output_type": "stream",
          "text": [
            "/usr/local/lib/python3.6/dist-packages/IPython/core/interactiveshell.py:2718: DtypeWarning: Columns (49) have mixed types. Specify dtype option on import or set low_memory=False.\n",
            "  interactivity=interactivity, compiler=compiler, result=result)\n"
          ],
          "name": "stderr"
        },
        {
          "output_type": "execute_result",
          "data": {
            "text/html": [
              "<div>\n",
              "<style scoped>\n",
              "    .dataframe tbody tr th:only-of-type {\n",
              "        vertical-align: middle;\n",
              "    }\n",
              "\n",
              "    .dataframe tbody tr th {\n",
              "        vertical-align: top;\n",
              "    }\n",
              "\n",
              "    .dataframe thead th {\n",
              "        text-align: right;\n",
              "    }\n",
              "</style>\n",
              "<table border=\"1\" class=\"dataframe\">\n",
              "  <thead>\n",
              "    <tr style=\"text-align: right;\">\n",
              "      <th></th>\n",
              "      <th>parcelid</th>\n",
              "      <th>airconditioningtypeid</th>\n",
              "      <th>architecturalstyletypeid</th>\n",
              "      <th>basementsqft</th>\n",
              "      <th>bathroomcnt</th>\n",
              "      <th>bedroomcnt</th>\n",
              "      <th>buildingclasstypeid</th>\n",
              "      <th>buildingqualitytypeid</th>\n",
              "      <th>calculatedbathnbr</th>\n",
              "      <th>decktypeid</th>\n",
              "      <th>...</th>\n",
              "      <th>numberofstories</th>\n",
              "      <th>fireplaceflag</th>\n",
              "      <th>structuretaxvaluedollarcnt</th>\n",
              "      <th>taxvaluedollarcnt</th>\n",
              "      <th>assessmentyear</th>\n",
              "      <th>landtaxvaluedollarcnt</th>\n",
              "      <th>taxamount</th>\n",
              "      <th>taxdelinquencyflag</th>\n",
              "      <th>taxdelinquencyyear</th>\n",
              "      <th>censustractandblock</th>\n",
              "    </tr>\n",
              "  </thead>\n",
              "  <tbody>\n",
              "    <tr>\n",
              "      <th>0</th>\n",
              "      <td>10754147</td>\n",
              "      <td>NaN</td>\n",
              "      <td>NaN</td>\n",
              "      <td>NaN</td>\n",
              "      <td>0.0</td>\n",
              "      <td>0.0</td>\n",
              "      <td>NaN</td>\n",
              "      <td>NaN</td>\n",
              "      <td>NaN</td>\n",
              "      <td>NaN</td>\n",
              "      <td>...</td>\n",
              "      <td>NaN</td>\n",
              "      <td>NaN</td>\n",
              "      <td>NaN</td>\n",
              "      <td>9.0</td>\n",
              "      <td>2016.0</td>\n",
              "      <td>9.0</td>\n",
              "      <td>NaN</td>\n",
              "      <td>NaN</td>\n",
              "      <td>NaN</td>\n",
              "      <td>NaN</td>\n",
              "    </tr>\n",
              "    <tr>\n",
              "      <th>1</th>\n",
              "      <td>10759547</td>\n",
              "      <td>NaN</td>\n",
              "      <td>NaN</td>\n",
              "      <td>NaN</td>\n",
              "      <td>0.0</td>\n",
              "      <td>0.0</td>\n",
              "      <td>NaN</td>\n",
              "      <td>NaN</td>\n",
              "      <td>NaN</td>\n",
              "      <td>NaN</td>\n",
              "      <td>...</td>\n",
              "      <td>NaN</td>\n",
              "      <td>NaN</td>\n",
              "      <td>NaN</td>\n",
              "      <td>27516.0</td>\n",
              "      <td>2015.0</td>\n",
              "      <td>27516.0</td>\n",
              "      <td>NaN</td>\n",
              "      <td>NaN</td>\n",
              "      <td>NaN</td>\n",
              "      <td>NaN</td>\n",
              "    </tr>\n",
              "    <tr>\n",
              "      <th>2</th>\n",
              "      <td>10843547</td>\n",
              "      <td>NaN</td>\n",
              "      <td>NaN</td>\n",
              "      <td>NaN</td>\n",
              "      <td>0.0</td>\n",
              "      <td>0.0</td>\n",
              "      <td>5.0</td>\n",
              "      <td>NaN</td>\n",
              "      <td>NaN</td>\n",
              "      <td>NaN</td>\n",
              "      <td>...</td>\n",
              "      <td>1.0</td>\n",
              "      <td>NaN</td>\n",
              "      <td>660680.0</td>\n",
              "      <td>1434941.0</td>\n",
              "      <td>2016.0</td>\n",
              "      <td>774261.0</td>\n",
              "      <td>20800.37</td>\n",
              "      <td>NaN</td>\n",
              "      <td>NaN</td>\n",
              "      <td>NaN</td>\n",
              "    </tr>\n",
              "    <tr>\n",
              "      <th>3</th>\n",
              "      <td>10859147</td>\n",
              "      <td>NaN</td>\n",
              "      <td>NaN</td>\n",
              "      <td>NaN</td>\n",
              "      <td>0.0</td>\n",
              "      <td>0.0</td>\n",
              "      <td>3.0</td>\n",
              "      <td>6.0</td>\n",
              "      <td>NaN</td>\n",
              "      <td>NaN</td>\n",
              "      <td>...</td>\n",
              "      <td>1.0</td>\n",
              "      <td>NaN</td>\n",
              "      <td>580059.0</td>\n",
              "      <td>1174475.0</td>\n",
              "      <td>2016.0</td>\n",
              "      <td>594416.0</td>\n",
              "      <td>14557.57</td>\n",
              "      <td>NaN</td>\n",
              "      <td>NaN</td>\n",
              "      <td>NaN</td>\n",
              "    </tr>\n",
              "    <tr>\n",
              "      <th>4</th>\n",
              "      <td>10879947</td>\n",
              "      <td>NaN</td>\n",
              "      <td>NaN</td>\n",
              "      <td>NaN</td>\n",
              "      <td>0.0</td>\n",
              "      <td>0.0</td>\n",
              "      <td>4.0</td>\n",
              "      <td>NaN</td>\n",
              "      <td>NaN</td>\n",
              "      <td>NaN</td>\n",
              "      <td>...</td>\n",
              "      <td>1.0</td>\n",
              "      <td>NaN</td>\n",
              "      <td>196751.0</td>\n",
              "      <td>440101.0</td>\n",
              "      <td>2016.0</td>\n",
              "      <td>243350.0</td>\n",
              "      <td>5725.17</td>\n",
              "      <td>NaN</td>\n",
              "      <td>NaN</td>\n",
              "      <td>NaN</td>\n",
              "    </tr>\n",
              "  </tbody>\n",
              "</table>\n",
              "<p>5 rows × 58 columns</p>\n",
              "</div>"
            ],
            "text/plain": [
              "   parcelid  airconditioningtypeid  architecturalstyletypeid  basementsqft  \\\n",
              "0  10754147                    NaN                       NaN           NaN   \n",
              "1  10759547                    NaN                       NaN           NaN   \n",
              "2  10843547                    NaN                       NaN           NaN   \n",
              "3  10859147                    NaN                       NaN           NaN   \n",
              "4  10879947                    NaN                       NaN           NaN   \n",
              "\n",
              "   bathroomcnt  bedroomcnt  buildingclasstypeid  buildingqualitytypeid  \\\n",
              "0          0.0         0.0                  NaN                    NaN   \n",
              "1          0.0         0.0                  NaN                    NaN   \n",
              "2          0.0         0.0                  5.0                    NaN   \n",
              "3          0.0         0.0                  3.0                    6.0   \n",
              "4          0.0         0.0                  4.0                    NaN   \n",
              "\n",
              "   calculatedbathnbr  decktypeid         ...           numberofstories  \\\n",
              "0                NaN         NaN         ...                       NaN   \n",
              "1                NaN         NaN         ...                       NaN   \n",
              "2                NaN         NaN         ...                       1.0   \n",
              "3                NaN         NaN         ...                       1.0   \n",
              "4                NaN         NaN         ...                       1.0   \n",
              "\n",
              "   fireplaceflag  structuretaxvaluedollarcnt  taxvaluedollarcnt  \\\n",
              "0            NaN                         NaN                9.0   \n",
              "1            NaN                         NaN            27516.0   \n",
              "2            NaN                    660680.0          1434941.0   \n",
              "3            NaN                    580059.0          1174475.0   \n",
              "4            NaN                    196751.0           440101.0   \n",
              "\n",
              "   assessmentyear  landtaxvaluedollarcnt  taxamount  taxdelinquencyflag  \\\n",
              "0          2016.0                    9.0        NaN                 NaN   \n",
              "1          2015.0                27516.0        NaN                 NaN   \n",
              "2          2016.0               774261.0   20800.37                 NaN   \n",
              "3          2016.0               594416.0   14557.57                 NaN   \n",
              "4          2016.0               243350.0    5725.17                 NaN   \n",
              "\n",
              "   taxdelinquencyyear  censustractandblock  \n",
              "0                 NaN                  NaN  \n",
              "1                 NaN                  NaN  \n",
              "2                 NaN                  NaN  \n",
              "3                 NaN                  NaN  \n",
              "4                 NaN                  NaN  \n",
              "\n",
              "[5 rows x 58 columns]"
            ]
          },
          "metadata": {
            "tags": []
          },
          "execution_count": 10
        }
      ]
    },
    {
      "metadata": {
        "id": "32vgqpddMwzY",
        "colab_type": "code",
        "colab": {
          "base_uri": "https://localhost:8080/",
          "height": 253
        },
        "outputId": "67135dab-00d1-4ab0-c7f7-7cf181ff9c18"
      },
      "cell_type": "code",
      "source": [
        "df=pd.merge(df2016_key, df_2017, on='parcelid')\n",
        "df.head()"
      ],
      "execution_count": 11,
      "outputs": [
        {
          "output_type": "execute_result",
          "data": {
            "text/html": [
              "<div>\n",
              "<style scoped>\n",
              "    .dataframe tbody tr th:only-of-type {\n",
              "        vertical-align: middle;\n",
              "    }\n",
              "\n",
              "    .dataframe tbody tr th {\n",
              "        vertical-align: top;\n",
              "    }\n",
              "\n",
              "    .dataframe thead th {\n",
              "        text-align: right;\n",
              "    }\n",
              "</style>\n",
              "<table border=\"1\" class=\"dataframe\">\n",
              "  <thead>\n",
              "    <tr style=\"text-align: right;\">\n",
              "      <th></th>\n",
              "      <th>parcelid</th>\n",
              "      <th>structure_value2016</th>\n",
              "      <th>land_value2016</th>\n",
              "      <th>airconditioningtypeid</th>\n",
              "      <th>architecturalstyletypeid</th>\n",
              "      <th>basementsqft</th>\n",
              "      <th>bathroomcnt</th>\n",
              "      <th>bedroomcnt</th>\n",
              "      <th>buildingclasstypeid</th>\n",
              "      <th>buildingqualitytypeid</th>\n",
              "      <th>...</th>\n",
              "      <th>numberofstories</th>\n",
              "      <th>fireplaceflag</th>\n",
              "      <th>structuretaxvaluedollarcnt</th>\n",
              "      <th>taxvaluedollarcnt</th>\n",
              "      <th>assessmentyear</th>\n",
              "      <th>landtaxvaluedollarcnt</th>\n",
              "      <th>taxamount</th>\n",
              "      <th>taxdelinquencyflag</th>\n",
              "      <th>taxdelinquencyyear</th>\n",
              "      <th>censustractandblock</th>\n",
              "    </tr>\n",
              "  </thead>\n",
              "  <tbody>\n",
              "    <tr>\n",
              "      <th>0</th>\n",
              "      <td>10754147</td>\n",
              "      <td>NaN</td>\n",
              "      <td>9.0</td>\n",
              "      <td>NaN</td>\n",
              "      <td>NaN</td>\n",
              "      <td>NaN</td>\n",
              "      <td>0.0</td>\n",
              "      <td>0.0</td>\n",
              "      <td>NaN</td>\n",
              "      <td>NaN</td>\n",
              "      <td>...</td>\n",
              "      <td>NaN</td>\n",
              "      <td>NaN</td>\n",
              "      <td>NaN</td>\n",
              "      <td>9.0</td>\n",
              "      <td>2016.0</td>\n",
              "      <td>9.0</td>\n",
              "      <td>NaN</td>\n",
              "      <td>NaN</td>\n",
              "      <td>NaN</td>\n",
              "      <td>NaN</td>\n",
              "    </tr>\n",
              "    <tr>\n",
              "      <th>1</th>\n",
              "      <td>10759547</td>\n",
              "      <td>NaN</td>\n",
              "      <td>27516.0</td>\n",
              "      <td>NaN</td>\n",
              "      <td>NaN</td>\n",
              "      <td>NaN</td>\n",
              "      <td>0.0</td>\n",
              "      <td>0.0</td>\n",
              "      <td>NaN</td>\n",
              "      <td>NaN</td>\n",
              "      <td>...</td>\n",
              "      <td>NaN</td>\n",
              "      <td>NaN</td>\n",
              "      <td>NaN</td>\n",
              "      <td>27516.0</td>\n",
              "      <td>2015.0</td>\n",
              "      <td>27516.0</td>\n",
              "      <td>NaN</td>\n",
              "      <td>NaN</td>\n",
              "      <td>NaN</td>\n",
              "      <td>NaN</td>\n",
              "    </tr>\n",
              "    <tr>\n",
              "      <th>2</th>\n",
              "      <td>10843547</td>\n",
              "      <td>650756.0</td>\n",
              "      <td>762631.0</td>\n",
              "      <td>NaN</td>\n",
              "      <td>NaN</td>\n",
              "      <td>NaN</td>\n",
              "      <td>0.0</td>\n",
              "      <td>0.0</td>\n",
              "      <td>5.0</td>\n",
              "      <td>NaN</td>\n",
              "      <td>...</td>\n",
              "      <td>1.0</td>\n",
              "      <td>NaN</td>\n",
              "      <td>660680.0</td>\n",
              "      <td>1434941.0</td>\n",
              "      <td>2016.0</td>\n",
              "      <td>774261.0</td>\n",
              "      <td>20800.37</td>\n",
              "      <td>NaN</td>\n",
              "      <td>NaN</td>\n",
              "      <td>NaN</td>\n",
              "    </tr>\n",
              "    <tr>\n",
              "      <th>3</th>\n",
              "      <td>10859147</td>\n",
              "      <td>571346.0</td>\n",
              "      <td>585488.0</td>\n",
              "      <td>NaN</td>\n",
              "      <td>NaN</td>\n",
              "      <td>NaN</td>\n",
              "      <td>0.0</td>\n",
              "      <td>0.0</td>\n",
              "      <td>3.0</td>\n",
              "      <td>6.0</td>\n",
              "      <td>...</td>\n",
              "      <td>1.0</td>\n",
              "      <td>NaN</td>\n",
              "      <td>580059.0</td>\n",
              "      <td>1174475.0</td>\n",
              "      <td>2016.0</td>\n",
              "      <td>594416.0</td>\n",
              "      <td>14557.57</td>\n",
              "      <td>NaN</td>\n",
              "      <td>NaN</td>\n",
              "      <td>NaN</td>\n",
              "    </tr>\n",
              "    <tr>\n",
              "      <th>4</th>\n",
              "      <td>10879947</td>\n",
              "      <td>193796.0</td>\n",
              "      <td>239695.0</td>\n",
              "      <td>NaN</td>\n",
              "      <td>NaN</td>\n",
              "      <td>NaN</td>\n",
              "      <td>0.0</td>\n",
              "      <td>0.0</td>\n",
              "      <td>4.0</td>\n",
              "      <td>NaN</td>\n",
              "      <td>...</td>\n",
              "      <td>1.0</td>\n",
              "      <td>NaN</td>\n",
              "      <td>196751.0</td>\n",
              "      <td>440101.0</td>\n",
              "      <td>2016.0</td>\n",
              "      <td>243350.0</td>\n",
              "      <td>5725.17</td>\n",
              "      <td>NaN</td>\n",
              "      <td>NaN</td>\n",
              "      <td>NaN</td>\n",
              "    </tr>\n",
              "  </tbody>\n",
              "</table>\n",
              "<p>5 rows × 60 columns</p>\n",
              "</div>"
            ],
            "text/plain": [
              "   parcelid  structure_value2016  land_value2016  airconditioningtypeid  \\\n",
              "0  10754147                  NaN             9.0                    NaN   \n",
              "1  10759547                  NaN         27516.0                    NaN   \n",
              "2  10843547             650756.0        762631.0                    NaN   \n",
              "3  10859147             571346.0        585488.0                    NaN   \n",
              "4  10879947             193796.0        239695.0                    NaN   \n",
              "\n",
              "   architecturalstyletypeid  basementsqft  bathroomcnt  bedroomcnt  \\\n",
              "0                       NaN           NaN          0.0         0.0   \n",
              "1                       NaN           NaN          0.0         0.0   \n",
              "2                       NaN           NaN          0.0         0.0   \n",
              "3                       NaN           NaN          0.0         0.0   \n",
              "4                       NaN           NaN          0.0         0.0   \n",
              "\n",
              "   buildingclasstypeid  buildingqualitytypeid         ...           \\\n",
              "0                  NaN                    NaN         ...            \n",
              "1                  NaN                    NaN         ...            \n",
              "2                  5.0                    NaN         ...            \n",
              "3                  3.0                    6.0         ...            \n",
              "4                  4.0                    NaN         ...            \n",
              "\n",
              "   numberofstories  fireplaceflag  structuretaxvaluedollarcnt  \\\n",
              "0              NaN            NaN                         NaN   \n",
              "1              NaN            NaN                         NaN   \n",
              "2              1.0            NaN                    660680.0   \n",
              "3              1.0            NaN                    580059.0   \n",
              "4              1.0            NaN                    196751.0   \n",
              "\n",
              "   taxvaluedollarcnt  assessmentyear  landtaxvaluedollarcnt  taxamount  \\\n",
              "0                9.0          2016.0                    9.0        NaN   \n",
              "1            27516.0          2015.0                27516.0        NaN   \n",
              "2          1434941.0          2016.0               774261.0   20800.37   \n",
              "3          1174475.0          2016.0               594416.0   14557.57   \n",
              "4           440101.0          2016.0               243350.0    5725.17   \n",
              "\n",
              "   taxdelinquencyflag  taxdelinquencyyear  censustractandblock  \n",
              "0                 NaN                 NaN                  NaN  \n",
              "1                 NaN                 NaN                  NaN  \n",
              "2                 NaN                 NaN                  NaN  \n",
              "3                 NaN                 NaN                  NaN  \n",
              "4                 NaN                 NaN                  NaN  \n",
              "\n",
              "[5 rows x 60 columns]"
            ]
          },
          "metadata": {
            "tags": []
          },
          "execution_count": 11
        }
      ]
    },
    {
      "metadata": {
        "id": "tvxx1ebIRmui",
        "colab_type": "code",
        "colab": {}
      },
      "cell_type": "code",
      "source": [
        "import pandas as pd\n",
        "from sklearn import datasets, linear_model\n",
        "from sklearn.model_selection import train_test_split\n",
        "from matplotlib import pyplot as plt\n",
        "%matplotlib inline\n",
        "\n"
      ],
      "execution_count": 0,
      "outputs": []
    },
    {
      "metadata": {
        "id": "q8IV4I9_cllv",
        "colab_type": "code",
        "colab": {}
      },
      "cell_type": "code",
      "source": [
        ""
      ],
      "execution_count": 0,
      "outputs": []
    },
    {
      "metadata": {
        "id": "AYPSmaKCh8Ii",
        "colab_type": "code",
        "outputId": "a42d9a66-e822-44a6-d235-dfcdfcc1191c",
        "colab": {
          "base_uri": "https://localhost:8080/",
          "height": 671
        }
      },
      "cell_type": "code",
      "source": [
        "from string import ascii_letters\n",
        "import numpy as np\n",
        "import pandas as pd\n",
        "import seaborn as sns\n",
        "import matplotlib.pyplot as plt\n",
        "\n",
        "sns.set(style=\"white\")\n",
        "\n",
        "\n",
        "# Compute the correlation matrix\n",
        "corr = df.corr()\n",
        "\n",
        "# Generate a mask for the upper triangle\n",
        "mask = np.zeros_like(corr, dtype=np.bool)\n",
        "mask[np.triu_indices_from(mask)] = True\n",
        "\n",
        "# Set up the matplotlib figure\n",
        "f, ax = plt.subplots(figsize=(11, 9))\n",
        "\n",
        "# Generate a custom diverging colormap\n",
        "cmap = sns.diverging_palette(220, 10, as_cmap=True)\n",
        "\n",
        "# Draw the heatmap with the mask and correct aspect ratio\n",
        "sns.heatmap(corr, mask=mask, cmap=cmap, vmax=.3, center=0,\n",
        "            square=True, linewidths=.5, cbar_kws={\"shrink\": .5})"
      ],
      "execution_count": 13,
      "outputs": [
        {
          "output_type": "execute_result",
          "data": {
            "text/plain": [
              "<matplotlib.axes._subplots.AxesSubplot at 0x7fa267a36f60>"
            ]
          },
          "metadata": {
            "tags": []
          },
          "execution_count": 13
        },
        {
          "output_type": "display_data",
          "data": {
            "image/png": "[encoded data removed]",
            "text/plain": [
              "<Figure size 792x648 with 2 Axes>"
            ]
          },
          "metadata": {
            "tags": []
          }
        }
      ]
    },
    {
      "metadata": {
        "id": "FvaOIuEHdGTK",
        "colab_type": "code",
        "outputId": "e061c59b-f0ca-4907-a1de-e46aa674e342",
        "colab": {
          "base_uri": "https://localhost:8080/",
          "height": 554
        }
      },
      "cell_type": "code",
      "source": [
        "sns.set(style=\"white\")\n",
        "\n",
        "#get key features\n",
        "\n",
        "df2=df[['taxamount','land_value2016','structure_value2016','bedroomcnt','finishedsquarefeet12','fullbathcnt']]\n",
        "# Compute the correlation matrix\n",
        "corr = df2.corr()\n",
        "\n",
        "# Generate a mask for the upper triangle\n",
        "mask = np.zeros_like(corr, dtype=np.bool)\n",
        "mask[np.triu_indices_from(mask)] = True\n",
        "\n",
        "# Set up the matplotlib figure\n",
        "f, ax = plt.subplots(figsize=(11, 9))\n",
        "\n",
        "# Generate a custom diverging colormap\n",
        "cmap = sns.diverging_palette(220, 10, as_cmap=True)\n",
        "\n",
        "# Draw the heatmap with the mask and correct aspect ratio\n",
        "sns.heatmap(corr, mask=mask, cmap=cmap, vmax=.3, center=0,\n",
        "            square=True, linewidths=.5, cbar_kws={\"shrink\": .5})"
      ],
      "execution_count": 14,
      "outputs": [
        {
          "output_type": "execute_result",
          "data": {
            "text/plain": [
              "<matplotlib.axes._subplots.AxesSubplot at 0x7fa2639b05c0>"
            ]
          },
          "metadata": {
            "tags": []
          },
          "execution_count": 14
        },
        {
          "output_type": "display_data",
          "data": {
            "image/png": "[encoded data removed]",
            "text/plain": [
              "<Figure size 792x648 with 2 Axes>"
            ]
          },
          "metadata": {
            "tags": []
          }
        }
      ]
    },
    {
      "metadata": {
        "id": "M03epLZp3Mkw",
        "colab_type": "code",
        "colab": {}
      },
      "cell_type": "code",
      "source": [
        ""
      ],
      "execution_count": 0,
      "outputs": []
    },
    {
      "metadata": {
        "id": "psmWpZBVdFLH",
        "colab_type": "code",
        "outputId": "65eade26-6e1d-4a23-eee1-da5ccc2d36bc",
        "colab": {
          "base_uri": "https://localhost:8080/",
          "height": 51
        }
      },
      "cell_type": "code",
      "source": [
        "df3=df2.dropna()\n",
        "np.corrcoef(df3['taxamount'], df3['structure_value2016'])"
      ],
      "execution_count": 16,
      "outputs": [
        {
          "output_type": "execute_result",
          "data": {
            "text/plain": [
              "array([[1.        , 0.81141427],\n",
              "       [0.81141427, 1.        ]])"
            ]
          },
          "metadata": {
            "tags": []
          },
          "execution_count": 16
        }
      ]
    },
    {
      "metadata": {
        "id": "Pjvzo58vbOrX",
        "colab_type": "code",
        "outputId": "95587e5a-cf06-47fa-a488-160d5e7a1be5",
        "colab": {
          "base_uri": "https://localhost:8080/",
          "height": 51
        }
      },
      "cell_type": "code",
      "source": [
        "\n",
        "np.corrcoef(df3['taxamount'], df3['land_value2016'])"
      ],
      "execution_count": 17,
      "outputs": [
        {
          "output_type": "execute_result",
          "data": {
            "text/plain": [
              "array([[1.        , 0.91623278],\n",
              "       [0.91623278, 1.        ]])"
            ]
          },
          "metadata": {
            "tags": []
          },
          "execution_count": 17
        }
      ]
    },
    {
      "metadata": {
        "id": "rpoTp4yE60Sb",
        "colab_type": "code",
        "outputId": "f2127084-8d52-4832-9f99-bd86cda6b720",
        "colab": {
          "base_uri": "https://localhost:8080/",
          "height": 51
        }
      },
      "cell_type": "code",
      "source": [
        "\n",
        "np.corrcoef(df3['taxamount'], df3['bedroomcnt'])"
      ],
      "execution_count": 18,
      "outputs": [
        {
          "output_type": "execute_result",
          "data": {
            "text/plain": [
              "array([[1.        , 0.26133737],\n",
              "       [0.26133737, 1.        ]])"
            ]
          },
          "metadata": {
            "tags": []
          },
          "execution_count": 18
        }
      ]
    },
    {
      "metadata": {
        "id": "azAYSPEx3r1f",
        "colab_type": "code",
        "colab": {}
      },
      "cell_type": "code",
      "source": [
        ""
      ],
      "execution_count": 0,
      "outputs": []
    },
    {
      "metadata": {
        "id": "D5XCQTOz67s5",
        "colab_type": "code",
        "outputId": "2c0d5438-f877-46c6-e321-fbe225a19f7f",
        "colab": {
          "base_uri": "https://localhost:8080/",
          "height": 51
        }
      },
      "cell_type": "code",
      "source": [
        "\n",
        "np.corrcoef(df3['taxamount'], df3['finishedsquarefeet12'])"
      ],
      "execution_count": 19,
      "outputs": [
        {
          "output_type": "execute_result",
          "data": {
            "text/plain": [
              "array([[1.        , 0.60728015],\n",
              "       [0.60728015, 1.        ]])"
            ]
          },
          "metadata": {
            "tags": []
          },
          "execution_count": 19
        }
      ]
    },
    {
      "metadata": {
        "id": "ZDZUczkh7BC0",
        "colab_type": "code",
        "outputId": "01476df9-3a85-402d-d876-73f7df4fb18d",
        "colab": {
          "base_uri": "https://localhost:8080/",
          "height": 51
        }
      },
      "cell_type": "code",
      "source": [
        "\n",
        "np.corrcoef(df3['taxamount'], df3['fullbathcnt'])"
      ],
      "execution_count": 20,
      "outputs": [
        {
          "output_type": "execute_result",
          "data": {
            "text/plain": [
              "array([[1.        , 0.48839624],\n",
              "       [0.48839624, 1.        ]])"
            ]
          },
          "metadata": {
            "tags": []
          },
          "execution_count": 20
        }
      ]
    },
    {
      "metadata": {
        "id": "eXCIJ361FaRt",
        "colab_type": "text"
      },
      "cell_type": "markdown",
      "source": [
        "# Model **building**"
      ]
    },
    {
      "metadata": {
        "id": "1DohDgjqFbz7",
        "colab_type": "text"
      },
      "cell_type": "markdown",
      "source": [
        ""
      ]
    },
    {
      "metadata": {
        "id": "K5Hv6qppRlkD",
        "colab_type": "code",
        "outputId": "d40c4d7d-e4fe-4ecc-96d4-d9a628164112",
        "colab": {
          "base_uri": "https://localhost:8080/",
          "height": 51
        }
      },
      "cell_type": "code",
      "source": [
        "\n",
        "df3_1=df3[['bedroomcnt','finishedsquarefeet12','fullbathcnt']]\n",
        "y=df3['taxamount']\n",
        "X_train,X_test,y_train,y_test=train_test_split(df3_1,y,test_size=.2)\n",
        "print (X_train.shape,y_train.shape)\n",
        "print (X_test.shape,y_test.shape)"
      ],
      "execution_count": 21,
      "outputs": [
        {
          "output_type": "stream",
          "text": [
            "(2138833, 3) (2138833,)\n",
            "(534709, 3) (534709,)\n"
          ],
          "name": "stdout"
        }
      ]
    },
    {
      "metadata": {
        "id": "SH3FoRIYZQW_",
        "colab_type": "code",
        "outputId": "21ed67f1-7866-43e9-d70c-6011a3860c85",
        "colab": {
          "base_uri": "https://localhost:8080/",
          "height": 204
        }
      },
      "cell_type": "code",
      "source": [
        "X_train.head()"
      ],
      "execution_count": 22,
      "outputs": [
        {
          "output_type": "execute_result",
          "data": {
            "text/html": [
              "<div>\n",
              "<style scoped>\n",
              "    .dataframe tbody tr th:only-of-type {\n",
              "        vertical-align: middle;\n",
              "    }\n",
              "\n",
              "    .dataframe tbody tr th {\n",
              "        vertical-align: top;\n",
              "    }\n",
              "\n",
              "    .dataframe thead th {\n",
              "        text-align: right;\n",
              "    }\n",
              "</style>\n",
              "<table border=\"1\" class=\"dataframe\">\n",
              "  <thead>\n",
              "    <tr style=\"text-align: right;\">\n",
              "      <th></th>\n",
              "      <th>bedroomcnt</th>\n",
              "      <th>finishedsquarefeet12</th>\n",
              "      <th>fullbathcnt</th>\n",
              "    </tr>\n",
              "  </thead>\n",
              "  <tbody>\n",
              "    <tr>\n",
              "      <th>1676958</th>\n",
              "      <td>3.0</td>\n",
              "      <td>1381.0</td>\n",
              "      <td>2.0</td>\n",
              "    </tr>\n",
              "    <tr>\n",
              "      <th>340008</th>\n",
              "      <td>2.0</td>\n",
              "      <td>1266.0</td>\n",
              "      <td>2.0</td>\n",
              "    </tr>\n",
              "    <tr>\n",
              "      <th>965376</th>\n",
              "      <td>4.0</td>\n",
              "      <td>2554.0</td>\n",
              "      <td>3.0</td>\n",
              "    </tr>\n",
              "    <tr>\n",
              "      <th>2734172</th>\n",
              "      <td>2.0</td>\n",
              "      <td>1229.0</td>\n",
              "      <td>1.0</td>\n",
              "    </tr>\n",
              "    <tr>\n",
              "      <th>2450908</th>\n",
              "      <td>4.0</td>\n",
              "      <td>1830.0</td>\n",
              "      <td>2.0</td>\n",
              "    </tr>\n",
              "  </tbody>\n",
              "</table>\n",
              "</div>"
            ],
            "text/plain": [
              "         bedroomcnt  finishedsquarefeet12  fullbathcnt\n",
              "1676958         3.0                1381.0          2.0\n",
              "340008          2.0                1266.0          2.0\n",
              "965376          4.0                2554.0          3.0\n",
              "2734172         2.0                1229.0          1.0\n",
              "2450908         4.0                1830.0          2.0"
            ]
          },
          "metadata": {
            "tags": []
          },
          "execution_count": 22
        }
      ]
    },
    {
      "metadata": {
        "id": "JyykujmaZU67",
        "colab_type": "code",
        "outputId": "4d05643f-ddb1-4557-8f79-6ce7af4e1245",
        "colab": {
          "base_uri": "https://localhost:8080/",
          "height": 119
        }
      },
      "cell_type": "code",
      "source": [
        "y_train.head()"
      ],
      "execution_count": 23,
      "outputs": [
        {
          "output_type": "execute_result",
          "data": {
            "text/plain": [
              "1676958     1169.74\n",
              "340008      1106.76\n",
              "965376     12006.72\n",
              "2734172     4738.88\n",
              "2450908     6226.62\n",
              "Name: taxamount, dtype: float64"
            ]
          },
          "metadata": {
            "tags": []
          },
          "execution_count": 23
        }
      ]
    },
    {
      "metadata": {
        "id": "nOzqAouVZlp7",
        "colab_type": "code",
        "outputId": "c6b68e07-e55a-4897-9576-5a897ec2f577",
        "colab": {
          "base_uri": "https://localhost:8080/",
          "height": 204
        }
      },
      "cell_type": "code",
      "source": [
        "X_test.head()"
      ],
      "execution_count": 24,
      "outputs": [
        {
          "output_type": "execute_result",
          "data": {
            "text/html": [
              "<div>\n",
              "<style scoped>\n",
              "    .dataframe tbody tr th:only-of-type {\n",
              "        vertical-align: middle;\n",
              "    }\n",
              "\n",
              "    .dataframe tbody tr th {\n",
              "        vertical-align: top;\n",
              "    }\n",
              "\n",
              "    .dataframe thead th {\n",
              "        text-align: right;\n",
              "    }\n",
              "</style>\n",
              "<table border=\"1\" class=\"dataframe\">\n",
              "  <thead>\n",
              "    <tr style=\"text-align: right;\">\n",
              "      <th></th>\n",
              "      <th>bedroomcnt</th>\n",
              "      <th>finishedsquarefeet12</th>\n",
              "      <th>fullbathcnt</th>\n",
              "    </tr>\n",
              "  </thead>\n",
              "  <tbody>\n",
              "    <tr>\n",
              "      <th>1227512</th>\n",
              "      <td>3.0</td>\n",
              "      <td>1121.0</td>\n",
              "      <td>2.0</td>\n",
              "    </tr>\n",
              "    <tr>\n",
              "      <th>370732</th>\n",
              "      <td>5.0</td>\n",
              "      <td>3637.0</td>\n",
              "      <td>4.0</td>\n",
              "    </tr>\n",
              "    <tr>\n",
              "      <th>2450420</th>\n",
              "      <td>4.0</td>\n",
              "      <td>1412.0</td>\n",
              "      <td>2.0</td>\n",
              "    </tr>\n",
              "    <tr>\n",
              "      <th>924118</th>\n",
              "      <td>2.0</td>\n",
              "      <td>896.0</td>\n",
              "      <td>1.0</td>\n",
              "    </tr>\n",
              "    <tr>\n",
              "      <th>2035131</th>\n",
              "      <td>2.0</td>\n",
              "      <td>1413.0</td>\n",
              "      <td>1.0</td>\n",
              "    </tr>\n",
              "  </tbody>\n",
              "</table>\n",
              "</div>"
            ],
            "text/plain": [
              "         bedroomcnt  finishedsquarefeet12  fullbathcnt\n",
              "1227512         3.0                1121.0          2.0\n",
              "370732          5.0                3637.0          4.0\n",
              "2450420         4.0                1412.0          2.0\n",
              "924118          2.0                 896.0          1.0\n",
              "2035131         2.0                1413.0          1.0"
            ]
          },
          "metadata": {
            "tags": []
          },
          "execution_count": 24
        }
      ]
    },
    {
      "metadata": {
        "id": "DFUzywuRHgoc",
        "colab_type": "code",
        "colab": {}
      },
      "cell_type": "code",
      "source": [
        "# fit a model\n",
        "lm = linear_model.LinearRegression()\n",
        "model = lm.fit(X_train, y_train)\n",
        "predictions = lm.predict(X_test)"
      ],
      "execution_count": 0,
      "outputs": []
    },
    {
      "metadata": {
        "id": "1dlLuYSHHjrc",
        "colab_type": "code",
        "outputId": "4671773b-9517-439b-fb08-174d9d52a3b6",
        "colab": {
          "base_uri": "https://localhost:8080/",
          "height": 51
        }
      },
      "cell_type": "code",
      "source": [
        "predictions[0:5]"
      ],
      "execution_count": 26,
      "outputs": [
        {
          "output_type": "execute_result",
          "data": {
            "text/plain": [
              "array([ 2055.22475239, 13432.17861217,  2023.17976552,  1837.3766675 ,\n",
              "        4575.33902264])"
            ]
          },
          "metadata": {
            "tags": []
          },
          "execution_count": 26
        }
      ]
    },
    {
      "metadata": {
        "id": "wTh915JFHrYO",
        "colab_type": "code",
        "outputId": "9728c2e7-6588-4649-e580-afb8f37d4527",
        "colab": {
          "base_uri": "https://localhost:8080/",
          "height": 378
        }
      },
      "cell_type": "code",
      "source": [
        "## The line / model\n",
        "plt.scatter(y_test, predictions)\n",
        "plt.xlabel(\"True Values\")\n",
        "plt.ylabel(\"Predictions\")"
      ],
      "execution_count": 27,
      "outputs": [
        {
          "output_type": "execute_result",
          "data": {
            "text/plain": [
              "Text(0, 0.5, 'Predictions')"
            ]
          },
          "metadata": {
            "tags": []
          },
          "execution_count": 27
        },
        {
          "output_type": "display_data",
          "data": {
            "image/png": "[encoded data removed]",
            "text/plain": [
              "<Figure size 576x396 with 1 Axes>"
            ]
          },
          "metadata": {
            "tags": []
          }
        }
      ]
    },
    {
      "metadata": {
        "id": "gkqPX_arVhRL",
        "colab_type": "code",
        "outputId": "8b9610ed-0371-4295-d7f1-f8aaaf560206",
        "colab": {
          "base_uri": "https://localhost:8080/",
          "height": 34
        }
      },
      "cell_type": "code",
      "source": [
        "\n",
        "print  (model.score(X_test, y_test))"
      ],
      "execution_count": 28,
      "outputs": [
        {
          "output_type": "stream",
          "text": [
            "0.3995385793591423\n"
          ],
          "name": "stdout"
        }
      ]
    },
    {
      "metadata": {
        "id": "JEOPr7k5YMJz",
        "colab_type": "code",
        "outputId": "7443df7d-4bf9-4d8b-a1b3-97bd5fe0d0c8",
        "colab": {
          "base_uri": "https://localhost:8080/",
          "height": 51
        }
      },
      "cell_type": "code",
      "source": [
        "df4=df3[['bedroomcnt','finishedsquarefeet12','fullbathcnt']].dropna()\n",
        "y=df3['taxamount']\n",
        "X_train,X_test,y_train,y_test=train_test_split(df4,y,test_size=.2)\n",
        "print (X_train.shape,y_train.shape)\n",
        "print (X_test.shape,y_test.shape)"
      ],
      "execution_count": 29,
      "outputs": [
        {
          "output_type": "stream",
          "text": [
            "(2138833, 3) (2138833,)\n",
            "(534709, 3) (534709,)\n"
          ],
          "name": "stdout"
        }
      ]
    },
    {
      "metadata": {
        "id": "Ift_8EuzYTJi",
        "colab_type": "code",
        "colab": {}
      },
      "cell_type": "code",
      "source": [
        "# fit a model\n",
        "lm = linear_model.LinearRegression()\n",
        "model = lm.fit(X_train, y_train)\n",
        "predictions = lm.predict(X_test)"
      ],
      "execution_count": 0,
      "outputs": []
    },
    {
      "metadata": {
        "id": "73mUB5qbZxL-",
        "colab_type": "code",
        "outputId": "833dab1d-bd16-45af-a5a0-4882c22b27e6",
        "colab": {
          "base_uri": "https://localhost:8080/",
          "height": 51
        }
      },
      "cell_type": "code",
      "source": [
        "predictions[0:5]"
      ],
      "execution_count": 31,
      "outputs": [
        {
          "output_type": "execute_result",
          "data": {
            "text/plain": [
              "array([2518.76722292, 2167.18384066, 3459.84623597, 3068.973159  ,\n",
              "       7125.73883237])"
            ]
          },
          "metadata": {
            "tags": []
          },
          "execution_count": 31
        }
      ]
    },
    {
      "metadata": {
        "id": "-tfrvpwzZzwQ",
        "colab_type": "code",
        "outputId": "a707f844-cb68-4f2f-ee99-c95b4237262b",
        "colab": {
          "base_uri": "https://localhost:8080/",
          "height": 378
        }
      },
      "cell_type": "code",
      "source": [
        "## The line / model\n",
        "plt.scatter(y_test, predictions)\n",
        "plt.xlabel(\"True Values\")\n",
        "plt.ylabel(\"Predictions\")"
      ],
      "execution_count": 32,
      "outputs": [
        {
          "output_type": "execute_result",
          "data": {
            "text/plain": [
              "Text(0, 0.5, 'Predictions')"
            ]
          },
          "metadata": {
            "tags": []
          },
          "execution_count": 32
        },
        {
          "output_type": "display_data",
          "data": {
            "image/png": "[encoded data removed]",
            "text/plain": [
              "<Figure size 576x396 with 1 Axes>"
            ]
          },
          "metadata": {
            "tags": []
          }
        }
      ]
    },
    {
      "metadata": {
        "id": "m3auSx3GZ_io",
        "colab_type": "code",
        "outputId": "684873be-12f9-453c-b820-6e65daed0257",
        "colab": {
          "base_uri": "https://localhost:8080/",
          "height": 34
        }
      },
      "cell_type": "code",
      "source": [
        "\n",
        "print  (model.score(X_test, y_test))"
      ],
      "execution_count": 33,
      "outputs": [
        {
          "output_type": "stream",
          "text": [
            "0.40575849549978366\n"
          ],
          "name": "stdout"
        }
      ]
    },
    {
      "metadata": {
        "id": "TJOHJHJfAOTh",
        "colab_type": "code",
        "colab": {}
      },
      "cell_type": "code",
      "source": [
        ""
      ],
      "execution_count": 0,
      "outputs": []
    },
    {
      "metadata": {
        "id": "u3UaOWMb9W6G",
        "colab_type": "text"
      },
      "cell_type": "markdown",
      "source": [
        "# Another model **versio**n"
      ]
    },
    {
      "metadata": {
        "id": "SOh5SLx79cdl",
        "colab_type": "text"
      },
      "cell_type": "markdown",
      "source": [
        ""
      ]
    },
    {
      "metadata": {
        "id": "6ABe8obT9laG",
        "colab_type": "code",
        "outputId": "25cde4d5-cdf5-41ab-fb4f-a4de32b23476",
        "colab": {
          "base_uri": "https://localhost:8080/",
          "height": 51
        }
      },
      "cell_type": "code",
      "source": [
        "\n",
        "df3_1=df3[['bedroomcnt','finishedsquarefeet12','fullbathcnt','structure_value2016','land_value2016']]\n",
        "y=df3['taxamount']\n",
        "X_train,X_test,y_train,y_test=train_test_split(df3_1,y,test_size=.2)\n",
        "print (X_train.shape,y_train.shape)\n",
        "print (X_test.shape,y_test.shape)"
      ],
      "execution_count": 34,
      "outputs": [
        {
          "output_type": "stream",
          "text": [
            "(2138833, 5) (2138833,)\n",
            "(534709, 5) (534709,)\n"
          ],
          "name": "stdout"
        }
      ]
    },
    {
      "metadata": {
        "id": "Evay-x9I-OID",
        "colab_type": "code",
        "colab": {}
      },
      "cell_type": "code",
      "source": [
        "# fit a model\n",
        "lm = linear_model.LinearRegression()\n",
        "model = lm.fit(X_train, y_train)\n",
        "predictions = lm.predict(X_test)"
      ],
      "execution_count": 0,
      "outputs": []
    },
    {
      "metadata": {
        "id": "fiFfhyHb9wem",
        "colab_type": "code",
        "outputId": "8a712a1a-2dee-4275-bfa5-89178ee0abeb",
        "colab": {
          "base_uri": "https://localhost:8080/",
          "height": 378
        }
      },
      "cell_type": "code",
      "source": [
        "## The line / model\n",
        "plt.scatter(y_test, predictions)\n",
        "plt.xlabel(\"True Values\")\n",
        "plt.ylabel(\"Predictions\")"
      ],
      "execution_count": 36,
      "outputs": [
        {
          "output_type": "execute_result",
          "data": {
            "text/plain": [
              "Text(0, 0.5, 'Predictions')"
            ]
          },
          "metadata": {
            "tags": []
          },
          "execution_count": 36
        },
        {
          "output_type": "display_data",
          "data": {
            "image/png": "[encoded data removed]",
            "text/plain": [
              "<Figure size 576x396 with 1 Axes>"
            ]
          },
          "metadata": {
            "tags": []
          }
        }
      ]
    },
    {
      "metadata": {
        "id": "_s4vINlt-eY3",
        "colab_type": "code",
        "outputId": "b00ae531-77a4-4ba0-8ba2-8fe4c9297d6d",
        "colab": {
          "base_uri": "https://localhost:8080/",
          "height": 34
        }
      },
      "cell_type": "code",
      "source": [
        "\n",
        "print  (model.score(X_test, y_test))"
      ],
      "execution_count": 37,
      "outputs": [
        {
          "output_type": "stream",
          "text": [
            "0.9421333212663625\n"
          ],
          "name": "stdout"
        }
      ]
    },
    {
      "metadata": {
        "id": "XGFBAClJ-WPw",
        "colab_type": "text"
      },
      "cell_type": "markdown",
      "source": [
        "# **More exploratory on Tax**"
      ]
    },
    {
      "metadata": {
        "id": "vQVAc5Sq-cM0",
        "colab_type": "text"
      },
      "cell_type": "markdown",
      "source": [
        ""
      ]
    },
    {
      "metadata": {
        "id": "N0PCfeC6_FNw",
        "colab_type": "code",
        "outputId": "d255b8f4-ee95-429e-a18c-c14a7a158ed8",
        "colab": {
          "base_uri": "https://localhost:8080/",
          "height": 376
        }
      },
      "cell_type": "code",
      "source": [
        "import pandas as pd\n",
        "\n",
        "# Generate data on commute times.\n",
        "size, scale = 1000, 10\n",
        "commutes = pd.Series(df['yearbuilt'])\n",
        "\n",
        "commutes.plot.hist(grid=True, bins=20, rwidth=0.9,\n",
        "                   color='#607c8e')\n",
        "plt.title('Year Built')\n",
        "plt.xlabel('Counts')\n",
        "plt.ylabel('Units')\n",
        "plt.grid(axis='y', alpha=0.75)"
      ],
      "execution_count": 38,
      "outputs": [
        {
          "output_type": "display_data",
          "data": {
            "image/png": "[encoded data removed]",
            "text/plain": [
              "<Figure size 576x396 with 1 Axes>"
            ]
          },
          "metadata": {
            "tags": []
          }
        }
      ]
    },
    {
      "metadata": {
        "id": "W8XfKQgqAo_L",
        "colab_type": "code",
        "outputId": "cfa4c943-e333-454b-caa5-270c82fcfe3b",
        "colab": {
          "base_uri": "https://localhost:8080/",
          "height": 376
        }
      },
      "cell_type": "code",
      "source": [
        "import pandas as pd\n",
        "\n",
        "# Generate data on commute times.\n",
        "size, scale = 1000, 10\n",
        "commutes = pd.Series(df['bedroomcnt'])\n",
        "\n",
        "commutes.plot.hist(grid=True, bins=20, rwidth=0.9,\n",
        "                   color='#607c8e')\n",
        "plt.title('Bed Room Count')\n",
        "plt.xlabel('Counts')\n",
        "plt.ylabel('Units')\n",
        "plt.grid(axis='y', alpha=0.75)"
      ],
      "execution_count": 39,
      "outputs": [
        {
          "output_type": "display_data",
          "data": {
            "image/png": "[encoded data removed]",
            "text/plain": [
              "<Figure size 576x396 with 1 Axes>"
            ]
          },
          "metadata": {
            "tags": []
          }
        }
      ]
    },
    {
      "metadata": {
        "id": "sFEBu0pgBv4P",
        "colab_type": "code",
        "colab": {}
      },
      "cell_type": "code",
      "source": [
        ""
      ],
      "execution_count": 0,
      "outputs": []
    },
    {
      "metadata": {
        "id": "jmVy4eXdJL8X",
        "colab_type": "code",
        "colab": {}
      },
      "cell_type": "code",
      "source": [
        ""
      ],
      "execution_count": 0,
      "outputs": []
    },
    {
      "metadata": {
        "id": "HS51XwwQJQN2",
        "colab_type": "code",
        "outputId": "50d5eace-6e33-418a-ab2b-7853bcc09231",
        "colab": {
          "base_uri": "https://localhost:8080/",
          "height": 700
        }
      },
      "cell_type": "code",
      "source": [
        "df4_mean=df4.groupby(['bedroomcnt']).sum()\n",
        "df5=df4_mean.reset_index()\n",
        "df5"
      ],
      "execution_count": 40,
      "outputs": [
        {
          "output_type": "execute_result",
          "data": {
            "text/html": [
              "<div>\n",
              "<style scoped>\n",
              "    .dataframe tbody tr th:only-of-type {\n",
              "        vertical-align: middle;\n",
              "    }\n",
              "\n",
              "    .dataframe tbody tr th {\n",
              "        vertical-align: top;\n",
              "    }\n",
              "\n",
              "    .dataframe thead th {\n",
              "        text-align: right;\n",
              "    }\n",
              "</style>\n",
              "<table border=\"1\" class=\"dataframe\">\n",
              "  <thead>\n",
              "    <tr style=\"text-align: right;\">\n",
              "      <th></th>\n",
              "      <th>bedroomcnt</th>\n",
              "      <th>finishedsquarefeet12</th>\n",
              "      <th>fullbathcnt</th>\n",
              "    </tr>\n",
              "  </thead>\n",
              "  <tbody>\n",
              "    <tr>\n",
              "      <th>0</th>\n",
              "      <td>0.0</td>\n",
              "      <td>4.433346e+06</td>\n",
              "      <td>6442.0</td>\n",
              "    </tr>\n",
              "    <tr>\n",
              "      <th>1</th>\n",
              "      <td>1.0</td>\n",
              "      <td>6.757239e+07</td>\n",
              "      <td>95672.0</td>\n",
              "    </tr>\n",
              "    <tr>\n",
              "      <th>2</th>\n",
              "      <td>2.0</td>\n",
              "      <td>6.995807e+08</td>\n",
              "      <td>977763.0</td>\n",
              "    </tr>\n",
              "    <tr>\n",
              "      <th>3</th>\n",
              "      <td>3.0</td>\n",
              "      <td>1.830728e+09</td>\n",
              "      <td>2348560.0</td>\n",
              "    </tr>\n",
              "    <tr>\n",
              "      <th>4</th>\n",
              "      <td>4.0</td>\n",
              "      <td>1.492555e+09</td>\n",
              "      <td>1746432.0</td>\n",
              "    </tr>\n",
              "    <tr>\n",
              "      <th>5</th>\n",
              "      <td>5.0</td>\n",
              "      <td>4.887805e+08</td>\n",
              "      <td>538706.0</td>\n",
              "    </tr>\n",
              "    <tr>\n",
              "      <th>6</th>\n",
              "      <td>6.0</td>\n",
              "      <td>1.024852e+08</td>\n",
              "      <td>109293.0</td>\n",
              "    </tr>\n",
              "    <tr>\n",
              "      <th>7</th>\n",
              "      <td>7.0</td>\n",
              "      <td>2.465681e+07</td>\n",
              "      <td>25001.0</td>\n",
              "    </tr>\n",
              "    <tr>\n",
              "      <th>8</th>\n",
              "      <td>8.0</td>\n",
              "      <td>7.419495e+06</td>\n",
              "      <td>7014.0</td>\n",
              "    </tr>\n",
              "    <tr>\n",
              "      <th>9</th>\n",
              "      <td>9.0</td>\n",
              "      <td>2.144496e+06</td>\n",
              "      <td>2052.0</td>\n",
              "    </tr>\n",
              "    <tr>\n",
              "      <th>10</th>\n",
              "      <td>10.0</td>\n",
              "      <td>1.171650e+06</td>\n",
              "      <td>1044.0</td>\n",
              "    </tr>\n",
              "    <tr>\n",
              "      <th>11</th>\n",
              "      <td>11.0</td>\n",
              "      <td>3.704380e+05</td>\n",
              "      <td>322.0</td>\n",
              "    </tr>\n",
              "    <tr>\n",
              "      <th>12</th>\n",
              "      <td>12.0</td>\n",
              "      <td>1.506780e+05</td>\n",
              "      <td>133.0</td>\n",
              "    </tr>\n",
              "    <tr>\n",
              "      <th>13</th>\n",
              "      <td>13.0</td>\n",
              "      <td>1.667540e+05</td>\n",
              "      <td>134.0</td>\n",
              "    </tr>\n",
              "    <tr>\n",
              "      <th>14</th>\n",
              "      <td>14.0</td>\n",
              "      <td>7.185600e+04</td>\n",
              "      <td>78.0</td>\n",
              "    </tr>\n",
              "    <tr>\n",
              "      <th>15</th>\n",
              "      <td>15.0</td>\n",
              "      <td>6.806400e+04</td>\n",
              "      <td>73.0</td>\n",
              "    </tr>\n",
              "    <tr>\n",
              "      <th>16</th>\n",
              "      <td>16.0</td>\n",
              "      <td>3.888500e+04</td>\n",
              "      <td>76.0</td>\n",
              "    </tr>\n",
              "    <tr>\n",
              "      <th>17</th>\n",
              "      <td>17.0</td>\n",
              "      <td>1.769100e+04</td>\n",
              "      <td>25.0</td>\n",
              "    </tr>\n",
              "    <tr>\n",
              "      <th>18</th>\n",
              "      <td>18.0</td>\n",
              "      <td>2.722300e+04</td>\n",
              "      <td>48.0</td>\n",
              "    </tr>\n",
              "    <tr>\n",
              "      <th>19</th>\n",
              "      <td>20.0</td>\n",
              "      <td>3.308700e+04</td>\n",
              "      <td>54.0</td>\n",
              "    </tr>\n",
              "    <tr>\n",
              "      <th>20</th>\n",
              "      <td>25.0</td>\n",
              "      <td>1.170000e+04</td>\n",
              "      <td>20.0</td>\n",
              "    </tr>\n",
              "  </tbody>\n",
              "</table>\n",
              "</div>"
            ],
            "text/plain": [
              "    bedroomcnt  finishedsquarefeet12  fullbathcnt\n",
              "0          0.0          4.433346e+06       6442.0\n",
              "1          1.0          6.757239e+07      95672.0\n",
              "2          2.0          6.995807e+08     977763.0\n",
              "3          3.0          1.830728e+09    2348560.0\n",
              "4          4.0          1.492555e+09    1746432.0\n",
              "5          5.0          4.887805e+08     538706.0\n",
              "6          6.0          1.024852e+08     109293.0\n",
              "7          7.0          2.465681e+07      25001.0\n",
              "8          8.0          7.419495e+06       7014.0\n",
              "9          9.0          2.144496e+06       2052.0\n",
              "10        10.0          1.171650e+06       1044.0\n",
              "11        11.0          3.704380e+05        322.0\n",
              "12        12.0          1.506780e+05        133.0\n",
              "13        13.0          1.667540e+05        134.0\n",
              "14        14.0          7.185600e+04         78.0\n",
              "15        15.0          6.806400e+04         73.0\n",
              "16        16.0          3.888500e+04         76.0\n",
              "17        17.0          1.769100e+04         25.0\n",
              "18        18.0          2.722300e+04         48.0\n",
              "19        20.0          3.308700e+04         54.0\n",
              "20        25.0          1.170000e+04         20.0"
            ]
          },
          "metadata": {
            "tags": []
          },
          "execution_count": 40
        }
      ]
    },
    {
      "metadata": {
        "id": "J-2QqHk8RqvE",
        "colab_type": "code",
        "colab": {}
      },
      "cell_type": "code",
      "source": [
        ""
      ],
      "execution_count": 0,
      "outputs": []
    },
    {
      "metadata": {
        "id": "bwy5O9R9cLOs",
        "colab_type": "code",
        "outputId": "30bac17c-1f13-4861-8a33-fb9c9be8b5e5",
        "colab": {
          "base_uri": "https://localhost:8080/",
          "height": 1028
        }
      },
      "cell_type": "code",
      "source": [
        "\n",
        "df2['hometaxvalue']=df2['structure_value2016']+df2['land_value2016']\n",
        "df2['structureratio']=df2['structure_value2016']/(df2['structure_value2016']+df2['land_value2016'])\n",
        "df2.head()\n",
        "df6_mean=df2.groupby(['bedroomcnt']).mean()\n",
        "df7=df6_mean.reset_index()\n",
        "df7"
      ],
      "execution_count": 43,
      "outputs": [
        {
          "output_type": "stream",
          "text": [
            "/usr/local/lib/python3.6/dist-packages/ipykernel_launcher.py:2: SettingWithCopyWarning: \n",
            "A value is trying to be set on a copy of a slice from a DataFrame.\n",
            "Try using .loc[row_indexer,col_indexer] = value instead\n",
            "\n",
            "See the caveats in the documentation: http://pandas.pydata.org/pandas-docs/stable/indexing.html#indexing-view-versus-copy\n",
            "  \n",
            "/usr/local/lib/python3.6/dist-packages/ipykernel_launcher.py:3: SettingWithCopyWarning: \n",
            "A value is trying to be set on a copy of a slice from a DataFrame.\n",
            "Try using .loc[row_indexer,col_indexer] = value instead\n",
            "\n",
            "See the caveats in the documentation: http://pandas.pydata.org/pandas-docs/stable/indexing.html#indexing-view-versus-copy\n",
            "  This is separate from the ipykernel package so we can avoid doing imports until\n"
          ],
          "name": "stderr"
        },
        {
          "output_type": "execute_result",
          "data": {
            "text/html": [
              "<div>\n",
              "<style scoped>\n",
              "    .dataframe tbody tr th:only-of-type {\n",
              "        vertical-align: middle;\n",
              "    }\n",
              "\n",
              "    .dataframe tbody tr th {\n",
              "        vertical-align: top;\n",
              "    }\n",
              "\n",
              "    .dataframe thead th {\n",
              "        text-align: right;\n",
              "    }\n",
              "</style>\n",
              "<table border=\"1\" class=\"dataframe\">\n",
              "  <thead>\n",
              "    <tr style=\"text-align: right;\">\n",
              "      <th></th>\n",
              "      <th>bedroomcnt</th>\n",
              "      <th>taxamount</th>\n",
              "      <th>land_value2016</th>\n",
              "      <th>structure_value2016</th>\n",
              "      <th>finishedsquarefeet12</th>\n",
              "      <th>fullbathcnt</th>\n",
              "      <th>hometaxvalue</th>\n",
              "      <th>structureratio</th>\n",
              "    </tr>\n",
              "  </thead>\n",
              "  <tbody>\n",
              "    <tr>\n",
              "      <th>0</th>\n",
              "      <td>0.0</td>\n",
              "      <td>5418.117597</td>\n",
              "      <td>3.701103e+05</td>\n",
              "      <td>2.260738e+05</td>\n",
              "      <td>1350.065244</td>\n",
              "      <td>1.360456</td>\n",
              "      <td>7.189496e+05</td>\n",
              "      <td>0.413904</td>\n",
              "    </tr>\n",
              "    <tr>\n",
              "      <th>1</th>\n",
              "      <td>1.0</td>\n",
              "      <td>3170.671058</td>\n",
              "      <td>1.479282e+05</td>\n",
              "      <td>9.416276e+04</td>\n",
              "      <td>807.358136</td>\n",
              "      <td>1.150103</td>\n",
              "      <td>2.419211e+05</td>\n",
              "      <td>0.447169</td>\n",
              "    </tr>\n",
              "    <tr>\n",
              "      <th>2</th>\n",
              "      <td>2.0</td>\n",
              "      <td>4004.865579</td>\n",
              "      <td>1.935520e+05</td>\n",
              "      <td>1.122715e+05</td>\n",
              "      <td>1195.554005</td>\n",
              "      <td>1.675453</td>\n",
              "      <td>3.057539e+05</td>\n",
              "      <td>0.421671</td>\n",
              "    </tr>\n",
              "    <tr>\n",
              "      <th>3</th>\n",
              "      <td>3.0</td>\n",
              "      <td>4739.782264</td>\n",
              "      <td>2.243995e+05</td>\n",
              "      <td>1.396269e+05</td>\n",
              "      <td>1608.362028</td>\n",
              "      <td>2.068812</td>\n",
              "      <td>3.639689e+05</td>\n",
              "      <td>0.451444</td>\n",
              "    </tr>\n",
              "    <tr>\n",
              "      <th>4</th>\n",
              "      <td>4.0</td>\n",
              "      <td>6204.014285</td>\n",
              "      <td>2.800485e+05</td>\n",
              "      <td>2.055484e+05</td>\n",
              "      <td>2219.732221</td>\n",
              "      <td>2.603240</td>\n",
              "      <td>4.855439e+05</td>\n",
              "      <td>0.490721</td>\n",
              "    </tr>\n",
              "    <tr>\n",
              "      <th>5</th>\n",
              "      <td>5.0</td>\n",
              "      <td>9641.723379</td>\n",
              "      <td>4.241641e+05</td>\n",
              "      <td>3.410631e+05</td>\n",
              "      <td>3151.930250</td>\n",
              "      <td>3.418929</td>\n",
              "      <td>7.653146e+05</td>\n",
              "      <td>0.509884</td>\n",
              "    </tr>\n",
              "    <tr>\n",
              "      <th>6</th>\n",
              "      <td>6.0</td>\n",
              "      <td>11064.952304</td>\n",
              "      <td>4.840052e+05</td>\n",
              "      <td>3.847901e+05</td>\n",
              "      <td>4040.197489</td>\n",
              "      <td>4.023937</td>\n",
              "      <td>8.687649e+05</td>\n",
              "      <td>0.507806</td>\n",
              "    </tr>\n",
              "    <tr>\n",
              "      <th>7</th>\n",
              "      <td>7.0</td>\n",
              "      <td>13240.814154</td>\n",
              "      <td>5.819965e+05</td>\n",
              "      <td>4.558516e+05</td>\n",
              "      <td>5124.696982</td>\n",
              "      <td>4.628997</td>\n",
              "      <td>1.036536e+06</td>\n",
              "      <td>0.520930</td>\n",
              "    </tr>\n",
              "    <tr>\n",
              "      <th>8</th>\n",
              "      <td>8.0</td>\n",
              "      <td>9403.141716</td>\n",
              "      <td>3.905848e+05</td>\n",
              "      <td>3.159360e+05</td>\n",
              "      <td>6673.493794</td>\n",
              "      <td>4.886426</td>\n",
              "      <td>7.061728e+05</td>\n",
              "      <td>0.514077</td>\n",
              "    </tr>\n",
              "    <tr>\n",
              "      <th>9</th>\n",
              "      <td>9.0</td>\n",
              "      <td>10257.830587</td>\n",
              "      <td>4.137879e+05</td>\n",
              "      <td>3.542992e+05</td>\n",
              "      <td>7141.803279</td>\n",
              "      <td>6.061330</td>\n",
              "      <td>7.677005e+05</td>\n",
              "      <td>0.548500</td>\n",
              "    </tr>\n",
              "    <tr>\n",
              "      <th>10</th>\n",
              "      <td>10.0</td>\n",
              "      <td>11954.732580</td>\n",
              "      <td>4.345500e+05</td>\n",
              "      <td>4.366297e+05</td>\n",
              "      <td>9491.182540</td>\n",
              "      <td>6.564706</td>\n",
              "      <td>8.724001e+05</td>\n",
              "      <td>0.559580</td>\n",
              "    </tr>\n",
              "    <tr>\n",
              "      <th>11</th>\n",
              "      <td>11.0</td>\n",
              "      <td>16562.367024</td>\n",
              "      <td>5.820502e+05</td>\n",
              "      <td>6.837370e+05</td>\n",
              "      <td>11023.891892</td>\n",
              "      <td>6.560284</td>\n",
              "      <td>1.265054e+06</td>\n",
              "      <td>0.559215</td>\n",
              "    </tr>\n",
              "    <tr>\n",
              "      <th>12</th>\n",
              "      <td>12.0</td>\n",
              "      <td>10390.303519</td>\n",
              "      <td>4.062720e+05</td>\n",
              "      <td>3.567547e+05</td>\n",
              "      <td>10620.733333</td>\n",
              "      <td>7.185804</td>\n",
              "      <td>7.640539e+05</td>\n",
              "      <td>0.557984</td>\n",
              "    </tr>\n",
              "    <tr>\n",
              "      <th>13</th>\n",
              "      <td>13.0</td>\n",
              "      <td>18852.606024</td>\n",
              "      <td>8.658813e+05</td>\n",
              "      <td>5.734544e+05</td>\n",
              "      <td>10602.647059</td>\n",
              "      <td>8.046512</td>\n",
              "      <td>1.449934e+06</td>\n",
              "      <td>0.571828</td>\n",
              "    </tr>\n",
              "    <tr>\n",
              "      <th>14</th>\n",
              "      <td>14.0</td>\n",
              "      <td>22724.353134</td>\n",
              "      <td>1.292572e+06</td>\n",
              "      <td>5.713404e+05</td>\n",
              "      <td>12137.375000</td>\n",
              "      <td>8.470588</td>\n",
              "      <td>1.883095e+06</td>\n",
              "      <td>0.523724</td>\n",
              "    </tr>\n",
              "    <tr>\n",
              "      <th>15</th>\n",
              "      <td>15.0</td>\n",
              "      <td>22158.100870</td>\n",
              "      <td>1.184304e+06</td>\n",
              "      <td>6.163716e+05</td>\n",
              "      <td>10586.285714</td>\n",
              "      <td>9.416667</td>\n",
              "      <td>1.857815e+06</td>\n",
              "      <td>0.450999</td>\n",
              "    </tr>\n",
              "    <tr>\n",
              "      <th>16</th>\n",
              "      <td>16.0</td>\n",
              "      <td>11188.770833</td>\n",
              "      <td>3.577943e+05</td>\n",
              "      <td>5.006398e+05</td>\n",
              "      <td>6480.833333</td>\n",
              "      <td>9.800000</td>\n",
              "      <td>8.658969e+05</td>\n",
              "      <td>0.576924</td>\n",
              "    </tr>\n",
              "    <tr>\n",
              "      <th>17</th>\n",
              "      <td>17.0</td>\n",
              "      <td>9088.157273</td>\n",
              "      <td>1.217928e+05</td>\n",
              "      <td>2.951051e+05</td>\n",
              "      <td>9149.333333</td>\n",
              "      <td>10.181818</td>\n",
              "      <td>4.168979e+05</td>\n",
              "      <td>0.666136</td>\n",
              "    </tr>\n",
              "    <tr>\n",
              "      <th>18</th>\n",
              "      <td>18.0</td>\n",
              "      <td>38855.108889</td>\n",
              "      <td>1.837650e+06</td>\n",
              "      <td>1.474577e+06</td>\n",
              "      <td>13334.750000</td>\n",
              "      <td>10.750000</td>\n",
              "      <td>3.312227e+06</td>\n",
              "      <td>0.422423</td>\n",
              "    </tr>\n",
              "    <tr>\n",
              "      <th>19</th>\n",
              "      <td>19.0</td>\n",
              "      <td>8688.760000</td>\n",
              "      <td>4.797010e+05</td>\n",
              "      <td>2.132000e+05</td>\n",
              "      <td>NaN</td>\n",
              "      <td>8.000000</td>\n",
              "      <td>6.929010e+05</td>\n",
              "      <td>0.307692</td>\n",
              "    </tr>\n",
              "    <tr>\n",
              "      <th>20</th>\n",
              "      <td>20.0</td>\n",
              "      <td>14708.936667</td>\n",
              "      <td>8.409431e+05</td>\n",
              "      <td>1.009956e+06</td>\n",
              "      <td>10670.750000</td>\n",
              "      <td>14.428571</td>\n",
              "      <td>1.991055e+06</td>\n",
              "      <td>0.622127</td>\n",
              "    </tr>\n",
              "    <tr>\n",
              "      <th>21</th>\n",
              "      <td>21.0</td>\n",
              "      <td>3870.910000</td>\n",
              "      <td>7.165700e+04</td>\n",
              "      <td>1.321740e+05</td>\n",
              "      <td>NaN</td>\n",
              "      <td>3.000000</td>\n",
              "      <td>2.038310e+05</td>\n",
              "      <td>0.648449</td>\n",
              "    </tr>\n",
              "    <tr>\n",
              "      <th>22</th>\n",
              "      <td>23.0</td>\n",
              "      <td>3411.500000</td>\n",
              "      <td>1.295520e+05</td>\n",
              "      <td>5.880400e+04</td>\n",
              "      <td>NaN</td>\n",
              "      <td>9.000000</td>\n",
              "      <td>1.883560e+05</td>\n",
              "      <td>0.312196</td>\n",
              "    </tr>\n",
              "    <tr>\n",
              "      <th>23</th>\n",
              "      <td>24.0</td>\n",
              "      <td>NaN</td>\n",
              "      <td>NaN</td>\n",
              "      <td>NaN</td>\n",
              "      <td>37824.000000</td>\n",
              "      <td>16.000000</td>\n",
              "      <td>NaN</td>\n",
              "      <td>NaN</td>\n",
              "    </tr>\n",
              "    <tr>\n",
              "      <th>24</th>\n",
              "      <td>25.0</td>\n",
              "      <td>19238.870000</td>\n",
              "      <td>3.189850e+05</td>\n",
              "      <td>1.265346e+06</td>\n",
              "      <td>11700.000000</td>\n",
              "      <td>20.000000</td>\n",
              "      <td>1.584331e+06</td>\n",
              "      <td>0.798663</td>\n",
              "    </tr>\n",
              "  </tbody>\n",
              "</table>\n",
              "</div>"
            ],
            "text/plain": [
              "    bedroomcnt     taxamount  land_value2016  structure_value2016  \\\n",
              "0          0.0   5418.117597    3.701103e+05         2.260738e+05   \n",
              "1          1.0   3170.671058    1.479282e+05         9.416276e+04   \n",
              "2          2.0   4004.865579    1.935520e+05         1.122715e+05   \n",
              "3          3.0   4739.782264    2.243995e+05         1.396269e+05   \n",
              "4          4.0   6204.014285    2.800485e+05         2.055484e+05   \n",
              "5          5.0   9641.723379    4.241641e+05         3.410631e+05   \n",
              "6          6.0  11064.952304    4.840052e+05         3.847901e+05   \n",
              "7          7.0  13240.814154    5.819965e+05         4.558516e+05   \n",
              "8          8.0   9403.141716    3.905848e+05         3.159360e+05   \n",
              "9          9.0  10257.830587    4.137879e+05         3.542992e+05   \n",
              "10        10.0  11954.732580    4.345500e+05         4.366297e+05   \n",
              "11        11.0  16562.367024    5.820502e+05         6.837370e+05   \n",
              "12        12.0  10390.303519    4.062720e+05         3.567547e+05   \n",
              "13        13.0  18852.606024    8.658813e+05         5.734544e+05   \n",
              "14        14.0  22724.353134    1.292572e+06         5.713404e+05   \n",
              "15        15.0  22158.100870    1.184304e+06         6.163716e+05   \n",
              "16        16.0  11188.770833    3.577943e+05         5.006398e+05   \n",
              "17        17.0   9088.157273    1.217928e+05         2.951051e+05   \n",
              "18        18.0  38855.108889    1.837650e+06         1.474577e+06   \n",
              "19        19.0   8688.760000    4.797010e+05         2.132000e+05   \n",
              "20        20.0  14708.936667    8.409431e+05         1.009956e+06   \n",
              "21        21.0   3870.910000    7.165700e+04         1.321740e+05   \n",
              "22        23.0   3411.500000    1.295520e+05         5.880400e+04   \n",
              "23        24.0           NaN             NaN                  NaN   \n",
              "24        25.0  19238.870000    3.189850e+05         1.265346e+06   \n",
              "\n",
              "    finishedsquarefeet12  fullbathcnt  hometaxvalue  structureratio  \n",
              "0            1350.065244     1.360456  7.189496e+05        0.413904  \n",
              "1             807.358136     1.150103  2.419211e+05        0.447169  \n",
              "2            1195.554005     1.675453  3.057539e+05        0.421671  \n",
              "3            1608.362028     2.068812  3.639689e+05        0.451444  \n",
              "4            2219.732221     2.603240  4.855439e+05        0.490721  \n",
              "5            3151.930250     3.418929  7.653146e+05        0.509884  \n",
              "6            4040.197489     4.023937  8.687649e+05        0.507806  \n",
              "7            5124.696982     4.628997  1.036536e+06        0.520930  \n",
              "8            6673.493794     4.886426  7.061728e+05        0.514077  \n",
              "9            7141.803279     6.061330  7.677005e+05        0.548500  \n",
              "10           9491.182540     6.564706  8.724001e+05        0.559580  \n",
              "11          11023.891892     6.560284  1.265054e+06        0.559215  \n",
              "12          10620.733333     7.185804  7.640539e+05        0.557984  \n",
              "13          10602.647059     8.046512  1.449934e+06        0.571828  \n",
              "14          12137.375000     8.470588  1.883095e+06        0.523724  \n",
              "15          10586.285714     9.416667  1.857815e+06        0.450999  \n",
              "16           6480.833333     9.800000  8.658969e+05        0.576924  \n",
              "17           9149.333333    10.181818  4.168979e+05        0.666136  \n",
              "18          13334.750000    10.750000  3.312227e+06        0.422423  \n",
              "19                   NaN     8.000000  6.929010e+05        0.307692  \n",
              "20          10670.750000    14.428571  1.991055e+06        0.622127  \n",
              "21                   NaN     3.000000  2.038310e+05        0.648449  \n",
              "22                   NaN     9.000000  1.883560e+05        0.312196  \n",
              "23          37824.000000    16.000000           NaN             NaN  \n",
              "24          11700.000000    20.000000  1.584331e+06        0.798663  "
            ]
          },
          "metadata": {
            "tags": []
          },
          "execution_count": 43
        }
      ]
    },
    {
      "metadata": {
        "id": "EwdwcgzcxKe8",
        "colab_type": "code",
        "colab": {}
      },
      "cell_type": "code",
      "source": [
        ""
      ],
      "execution_count": 0,
      "outputs": []
    },
    {
      "metadata": {
        "id": "7Zt5L2HPjaNv",
        "colab_type": "code",
        "colab": {}
      },
      "cell_type": "code",
      "source": [
        ""
      ],
      "execution_count": 0,
      "outputs": []
    },
    {
      "metadata": {
        "id": "VQJaeBqCgvvf",
        "colab_type": "code",
        "outputId": "6aa640aa-7c53-42cd-9c15-7fa597b51707",
        "colab": {
          "base_uri": "https://localhost:8080/",
          "height": 395
        }
      },
      "cell_type": "code",
      "source": [
        "\n",
        "import seaborn as sns\n",
        "sns.set(style=\"whitegrid\")\n",
        "ax = sns.barplot(x=\"bedroomcnt\", y=\"land_value2016\", data=df7)"
      ],
      "execution_count": 44,
      "outputs": [
        {
          "output_type": "stream",
          "text": [
            "/usr/local/lib/python3.6/dist-packages/seaborn/categorical.py:1428: FutureWarning: remove_na is deprecated and is a private function. Do not use.\n",
            "  stat_data = remove_na(group_data)\n"
          ],
          "name": "stderr"
        },
        {
          "output_type": "display_data",
          "data": {
            "image/png": "[encoded data removed]",
            "text/plain": [
              "<Figure size 576x396 with 1 Axes>"
            ]
          },
          "metadata": {
            "tags": []
          }
        }
      ]
    },
    {
      "metadata": {
        "id": "ecHnOVkGuBFV",
        "colab_type": "code",
        "outputId": "648bd93e-3d8c-44f4-f158-0ea30bd0728c",
        "colab": {
          "base_uri": "https://localhost:8080/",
          "height": 395
        }
      },
      "cell_type": "code",
      "source": [
        "\n",
        "import seaborn as sns\n",
        "sns.set(style=\"whitegrid\")\n",
        "ax = sns.barplot(x=\"bedroomcnt\", y=\"structure_value2016\", data=df7)"
      ],
      "execution_count": 45,
      "outputs": [
        {
          "output_type": "stream",
          "text": [
            "/usr/local/lib/python3.6/dist-packages/seaborn/categorical.py:1428: FutureWarning: remove_na is deprecated and is a private function. Do not use.\n",
            "  stat_data = remove_na(group_data)\n"
          ],
          "name": "stderr"
        },
        {
          "output_type": "display_data",
          "data": {
            "image/png": "[encoded data removed]",
            "text/plain": [
              "<Figure size 576x396 with 1 Axes>"
            ]
          },
          "metadata": {
            "tags": []
          }
        }
      ]
    },
    {
      "metadata": {
        "id": "oW6NXJh6g25R",
        "colab_type": "code",
        "outputId": "c4f309d2-6aae-4b76-fc37-ef1469b6814a",
        "colab": {
          "base_uri": "https://localhost:8080/",
          "height": 395
        }
      },
      "cell_type": "code",
      "source": [
        "\n",
        "import seaborn as sns\n",
        "sns.set(style=\"whitegrid\")\n",
        "ax = sns.barplot(x=\"bedroomcnt\", y=\"structureratio\", data=df7)"
      ],
      "execution_count": 46,
      "outputs": [
        {
          "output_type": "stream",
          "text": [
            "/usr/local/lib/python3.6/dist-packages/seaborn/categorical.py:1428: FutureWarning: remove_na is deprecated and is a private function. Do not use.\n",
            "  stat_data = remove_na(group_data)\n"
          ],
          "name": "stderr"
        },
        {
          "output_type": "display_data",
          "data": {
            "image/png": "[encoded data removed]",
            "text/plain": [
              "<Figure size 576x396 with 1 Axes>"
            ]
          },
          "metadata": {
            "tags": []
          }
        }
      ]
    },
    {
      "metadata": {
        "id": "-BzQywxSzn3s",
        "colab_type": "code",
        "colab": {}
      },
      "cell_type": "code",
      "source": [
        ""
      ],
      "execution_count": 0,
      "outputs": []
    },
    {
      "metadata": {
        "id": "uctilSI02VXZ",
        "colab_type": "text"
      },
      "cell_type": "markdown",
      "source": [
        "# **Conclusion**"
      ]
    },
    {
      "metadata": {
        "id": "LFknjprdEAIQ",
        "colab_type": "text"
      },
      "cell_type": "markdown",
      "source": [
        "\n",
        "\n",
        "1.   Tax amount are driven by 'bedroomcnt','finishedsquarefeet12','fullbathcnt'\n",
        "2.   When including 'land_value2016','structure_value2016', model yields 93% accuracy.\n",
        "3. Deep diving into the data reveals that there might be opporunity to tax properties with high bedroom count. The tax on structure is relatively flat across the bedroom count. This means that, properties such as large apartment complex, even though they have more structure they are being tax as if their contribution to the property is similar to residence.\n",
        "\n",
        "\n"
      ]
    },
    {
      "metadata": {
        "id": "BPb537L44Kfk",
        "colab_type": "code",
        "colab": {}
      },
      "cell_type": "code",
      "source": [
        ""
      ],
      "execution_count": 0,
      "outputs": []
    }
  ]
}